{
 "metadata": {
  "kernelspec": {
   "display_name": "Python 2",
   "language": "python",
   "name": "python2"
  },
  "language_info": {
   "codemirror_mode": {
    "name": "ipython",
    "version": 2
   },
   "file_extension": ".py",
   "mimetype": "text/x-python",
   "name": "python",
   "nbconvert_exporter": "python",
   "pygments_lexer": "ipython2",
   "version": "2.7.12"
  },
  "name": "",
  "signature": "sha256:3ef170318011881dc4b643e47464965cc26cc502f9738c60c6642a0c6810f266"
 },
 "nbformat": 3,
 "nbformat_minor": 0,
 "worksheets": [
  {
   "cells": [
    {
     "cell_type": "markdown",
     "metadata": {},
     "source": [
      "# Week 3 -- Cleaning Data\n",
      "\n",
      "Three files that I recieved from CrowdMed. \n",
      "\n",
      "***mds.json*** Collection of users mds or patients\n",
      "\n",
      "***medcases.json*** Collection of cases, with description\n",
      "\n",
      "***surveyanswers.json*** Collection surveys for medcases"
     ]
    },
    {
     "cell_type": "code",
     "collapsed": false,
     "input": [
      "##Import JSON\n",
      "import json\n",
      "import pandas as pd\n",
      "mds = pd.read_json('/home/maksat/Desktop/Insight/mds.json')\n",
      "medcases = pd.read_json('/home/maksat/Desktop/Insight/medcases.json')\n",
      "survey = pd.read_json('/home/maksat/Desktop/Insight/surveyanswers.json')\n",
      "\n",
      "#general public informatrion\n",
      "control = pd.read_csv('2014_consolidation.csv')\n",
      "\n",
      "#Investigate each column.\n",
      "print(mds.shape)\n",
      "print(medcases.shape)\n",
      "print(survey.shape)\n",
      "print(control.shape)\n",
      "#for item in medcases.columns:\n",
      "#    print(item)"
     ],
     "language": "python",
     "metadata": {},
     "outputs": [
      {
       "output_type": "stream",
       "stream": "stdout",
       "text": [
        "(37809, 111)\n",
        "(7888, 201)\n",
        "(928, 7)\n",
        "(34875, 1839)\n"
       ]
      }
     ],
     "prompt_number": 44
    },
    {
     "cell_type": "code",
     "collapsed": false,
     "input": [
      "#preprocess surveys\n",
      "print(\"Survey:{}\".format(survey.shape))\n",
      "#print(survey[~match][['_id','medcase']])\n",
      "survey['_id'] = survey['medcase']\n",
      "\n",
      "def getRating(row):\n",
      "    for item in row:\n",
      "        if item['key']=='rating':\n",
      "            return int(item['value'])\n",
      "def getInsight(row):\n",
      "    for item in row:\n",
      "        if item['key']=='insights':\n",
      "            return item['value']\n",
      "def getShare(row):\n",
      "    for item in row:\n",
      "        if item['key']=='share':\n",
      "            return item['value']\n",
      "        \n",
      "survey['rating'] = survey.questions.apply(getRating)\n",
      "survey['insight'] = survey.questions.apply(getInsight)\n",
      "survey['share'] = survey.questions.apply(getShare)\n",
      "\n",
      "import re\n",
      "#year case was creatred\n",
      "medcases['year'] = medcases['created'].apply(lambda x: re.findall(r'([0-9]+?)-',str(x))[0])\n",
      "\n",
      "medCaseCols = ['_id','user','activityPercentile','medications','medicationCount','lifestyle','caseDuration',\n",
      "               'surveyAnswered','familyHistory','costs','country','diseaseYear','ethnicity','year',\n",
      "               'supportOfferSent','thankYouCardSent','surveyIncentiveAwarded',\n",
      "               'incorrectDiagnosis','incorrectSolution',\n",
      "               'otherService1','otherService2','otherService3','otherService4','otherService5',\n",
      "               'birthYear','reward','id','medicalHistory','amountPaid','amountRefunded','bodySystemsString',\n",
      "               'primaryBodySystem','primaryComplaint','priorDoctors','productivityLost','created',\n",
      "               'state','struggle','symptoms','timeSpent','surveyAnswered','gender','healthPlan','allocatedMds']\n",
      "surveyCols = ['_id','rating','insight','share']\n",
      "mdsCols = ['_id','balance','cashWon']\n",
      "\n",
      "#merging medcase and surveys\n",
      "surveyAndMedCase = pd.merge(survey[surveyCols],medcases[medCaseCols], on='_id')\n",
      "print('SurveyAndMedCase:{}'.format(surveyAndMedCase.shape))\n",
      "\n",
      "#now 'user' in surveyAndMedCase == '_id' in mds\n",
      "surveyAndMedCase['_id'] = surveyAndMedCase['user']\n",
      "surveyAndMedCase.pop('user')\n",
      "allMerged = pd.merge(mds[mdsCols], surveyAndMedCase, on='_id')\n",
      "print('AllMerged:{}'.format(allMerged.shape))\n",
      "\n",
      "#add features, age of patient when diseas started\n",
      "allMerged['age'] = allMerged['year'].astype(int)-allMerged['birthYear'].astype(int)\n",
      "allMerged['waitYear'] = allMerged['year'].astype(int)-allMerged['diseaseYear'].astype(int)\n",
      "allMerged = allMerged.dropna(subset=['costs'],how='any')\n",
      "\n",
      "allMerged['moneySaved'] = allMerged['costs'].astype(int)-allMerged['reward'].astype(int)/100\n",
      "allMerged['reward'] = allMerged['reward'].apply(lambda x: int(x)/100)\n",
      "allMerged['costs'] = allMerged['costs'].apply(lambda x: int(x)/1000)\n",
      "allMerged['cashWon'] = allMerged['cashWon'].apply(lambda x: int(x)/100)\n",
      "allMerged['insight'] = allMerged['insight'].apply(lambda x: True if str(x)=='Yes' else False)\n",
      "allMerged['allocatedMD'] = allMerged['allocatedMds'].apply(lambda x: 0 if str(x)=='nan' else len(str(x).split(',')))\n",
      "#average\n",
      "average = allMerged['amountRefunded'].mean()\n",
      "#print(average)\n",
      "allMerged['amountRefunded'] = allMerged['amountRefunded'].fillna(average).apply(lambda x: int(x)/100)\n",
      "allMerged['amountPaid'] = allMerged['amountPaid'].fillna(average).apply(lambda x: int(x)/100)\n",
      "\n",
      "#average\n",
      "average1 = allMerged['timeSpent'].mean()\n",
      "allMerged['timeSpent'] = allMerged['timeSpent'].fillna(average1)\n",
      "\n",
      "allMerged['thankYouCardSent'] = allMerged['thankYouCardSent'].fillna(0)\n",
      "allMerged['supportOfferSent'] = allMerged['supportOfferSent'].fillna(0)\n",
      "allMerged['surveyIncentiveAwarded'] = allMerged['surveyIncentiveAwarded'].fillna(0)\n",
      "allMerged['incorrectSolution'] = allMerged['incorrectSolution'].fillna(0)\n",
      "allMerged['incorrectDiagnosis'] = allMerged['incorrectDiagnosis'].fillna(0)\n",
      "\n",
      "#allMerged['otherService'] = allMerged['otherService1'].astype(str)+allMerged['otherService2'].astype(str)+\\\n",
      "#    allMerged['otherService2'].astype(str)+\\\n",
      "#    allMerged['otherService4'].astype(str)+allMerged['otherService5'].astype(str)\\\n",
      "\n",
      "\n",
      "allMerged['symptomsCnt'] = allMerged['symptoms'].apply(lambda x: len(str(x)))\n",
      "allMerged['struggleCnt'] = allMerged['struggle'].apply(lambda x: len(str(x)))\n",
      "allMerged['lifestyleCnt'] = allMerged['lifestyle'].apply(lambda x: len(str(x)))\n",
      "allMerged['rating'] = allMerged['rating'].dropna().apply(lambda x: 1 if int(x)>2 else 0)\n",
      "\n",
      "import re\n",
      "def getEthnicity(item):\n",
      "    if str(item)=='NaN':\n",
      "        return 'NaN'\n",
      "    elif re.findall(r'(^[Cc]auca)[Aa]sian|[Cc]inese',item):\n",
      "        return 'Asian'\n",
      "    elif re.findall(r'[Hh]ispanic|[Ll]atino',item):\n",
      "        return 'Hispanic'\n",
      "    elif re.findall(r'[Cc]aucasi[ao]n|[Ww]hite',item): \n",
      "        return 'Caucasian'\n",
      "    elif re.findall(r'[Aa]frica|[Bb]lack',item):\n",
      "        return 'AfricanAmerican'\n",
      "    elif re.findall(r'[Jj]ewish|[Aa]shkenazi',item):\n",
      "        return 'Jewish'\n",
      "    else:\n",
      "        return 'Other'\n",
      "\n",
      "allMerged.ethnicity = allMerged.ethnicity.apply(lambda x: getEthnicity(x))\n",
      "\n",
      "prefix = ['cef','cal','cand','ceph','caine','calci','ciclovir','curium','curonium','cycline','cyclovir',\n",
      "          'actone','ane','ase','azole','azosin','atsis',\n",
      "          'barbital','bate','bite','bote',\n",
      "          'rium','ral','ril','rica','rin','rone','rine','rifa',\n",
      "          'diol','dipine','dronate','dol','ergot','floxacin','ine',\n",
      "          'lam', 'lol','lone','leptal','lexa',\n",
      "          'navir','nol','mucil','micin', 'mycin','oid',\n",
      "          'onopin','anapin','ynapin','unopin',\n",
      "          'pam','prazole','pril', 'profen', 'quine', \n",
      "          'sartan','setron', 'sone', 'stigmine', 'stine', 'sulf','sis',\n",
      "          'terol','thiazide','tidine','triptan','triptyline','trum','tram','tin','tan','ton',\n",
      "          'vastatin', 'vir','vudine',\n",
      "          'zine', 'zoline',\n",
      "          'xin','xalt','xen','xium','xran','xrin']\n",
      "\n",
      "def getMedications(x):\n",
      "        meds = []\n",
      "        for item in x:\n",
      "            meds.append(item['name'].rsplit(' ')[0].replace(',','').lower())\n",
      "        return meds\n",
      "\n",
      "def getMedications2(x):        \n",
      "    drugs = {}\n",
      "    for item in x:\n",
      "\n",
      "        words = item['name'].lower().split(' ')\n",
      "        #print(words)\n",
      "           \n",
      "        found = False    \n",
      "        for word in words:\n",
      "            word = re.sub(r'[^a-z]','',word)\n",
      "            #word = word.replace(',','')\n",
      "            for root in prefix:\n",
      "                if word.find(root)>0:\n",
      "                    drugs[word],found=0,True\n",
      "\n",
      "        if not found:\n",
      "            words[0] = re.sub(r'[^a-z]','',words[0])\n",
      "            drugs[words[0]]=0\n",
      "            \n",
      "    return ' '.join(item for item in drugs)         \n",
      "     \n",
      "#allMerged['meds'] = allMerged['medications'].apply(lambda x: getMedications(x)) \n",
      "allMerged['meds'] = allMerged['medications'].apply(lambda x: getMedications2(x))\n",
      "def getBodyType(x):\n",
      "    lst = []\n",
      "    for item in str(x).split(','): \n",
      "        lst.append(''.join(item.lower().split(' ')))\n",
      "    return ' '.join(lst)\n",
      "\n",
      "allMerged['bodySytemComplaint'] = allMerged['bodySystemsString'].apply(lambda x: getBodyType(x))\n",
      "allMerged['bodyComplaintCnt'] = allMerged['bodySytemComplaint'].apply(\n",
      "        lambda x: 0 if len(' '.join(x))<1 else len(x.split(' ')))\n",
      "\n",
      "#X['gender'],b = pd.factorize(X['gender'])\n",
      "#X['ethnicity'],b = pd.factorize(X['ethnicity'])\n",
      "\n",
      "from sklearn.feature_extraction.text import CountVectorizer\n",
      "vect = CountVectorizer()\n",
      "\n",
      "allMerged['textFeature'] = allMerged['gender'].astype(str)+\" \"+allMerged['ethnicity'].astype(str)+\" \"\\\n",
      "    +allMerged['bodySytemComplaint'].astype(str)\n",
      "    #\" \"+allMerged['meds'].astype(str)+\" \"+\\\n",
      "    \n",
      "X_medsDTM = vect.fit_transform(allMerged['textFeature'])\n",
      "X_medsDF = pd.DataFrame(X_medsDTM.toarray(),columns=vect.get_feature_names())\n",
      "X_medsDF.index = allMerged.index\n",
      "allMerged = pd.concat([allMerged,X_medsDF],axis=1)\n",
      "\n",
      "allMerged = allMerged[allMerged['rating']==1]\n",
      "allMerged['rating'].value_counts()"
     ],
     "language": "python",
     "metadata": {},
     "outputs": [
      {
       "output_type": "stream",
       "stream": "stdout",
       "text": [
        "Survey:(928, 10)\n",
        "SurveyAndMedCase:(921, 47)"
       ]
      },
      {
       "output_type": "stream",
       "stream": "stdout",
       "text": [
        "\n",
        "AllMerged:(919, 48)\n"
       ]
      },
      {
       "metadata": {},
       "output_type": "pyout",
       "prompt_number": 167,
       "text": [
        "1    557\n",
        "Name: rating, dtype: int64"
       ]
      }
     ],
     "prompt_number": 167
    },
    {
     "cell_type": "heading",
     "level": 1,
     "metadata": {},
     "source": [
      "Importing dat from the MEPS (medical expenditure panel survey) HC (household component)"
     ]
    },
    {
     "cell_type": "code",
     "collapsed": false,
     "input": [
      "names = ['DOBYY','AGELAST','SEX','TTLP14X','HIBPDX','HIBPAGED','BPMLDX','CHDDX','CHDAGED','ANGIDX','ANGIAGED',\n",
      "         'MIDX','MIAGED','OHRTDX','OHRTAGED','STRKDX','STRKAGED','EMPHDX','EMPHAGED','CHOLDX','CHOLAGED',#'CANCERDX',\n",
      "         'DIABDX','DIABAGED','ARTHDX','ARTHAGED','ASTHDX','ASTAGED']\n",
      "\n",
      "genPop = pd.DataFrame()\n",
      "genPop['age'] = control['AGELAST']\n",
      "genPop['priorDoctors'] = control['ADAPPT42']\n",
      "genPop['medicationCount'] = control['RXTOT14']\n",
      "genPop['bodyComplaintCnt'] = control.shape[0]*0\n",
      "genPop['waitYear'] = control.shape[0]*0\n",
      "genPop['sex'] = control['SEX']\n",
      "genPop['costs'] = control['TOTTCH14'].apply(lambda x: int(x)/1000)\n",
      "\n",
      "sickness = {'HIBPDX':'HIBPAGED','CHDDX':'CHDAGED','ANGIDX':'ANGIAGED','MIDX':'MIAGED','OHRTDX':'OHRTAGED',\n",
      "            'STRKDX':'STRKAGED','EMPHDX':'EMPHAGED','CHOLDX':'CHOLAGED','DIABDX':'DIABAGED',\n",
      "            'ARTHDX':'ARTHAGED','ASTHDX':'ASTHAGED'}\n",
      "\n",
      "\n",
      "#for keys in ['HIBPDX','CHDDX','ANGIDX','MIDX','OHRTDX','STRKDX','EMPHDX','CHOLDX','DIABDX','ARTHDX','ASTHDX']:\n",
      "for key in sickness:\n",
      "    control[key] = control[key].apply(lambda x: 0 if int(x)!=1 else 1)\n",
      "    #control[sickness[key]] = control[sickness[key]].apply(lambda x: None if int(x)<0 else x)\n",
      "    genPop['bodyComplaintCnt']+=control[key]\n",
      "    #find years sick\n",
      "    genPop[sickness[key]] = control[sickness[key]]\n",
      "    \n",
      "genPop['waitYear'] = genPop['age']-genPop[[sickness[key] for key in sickness]].min(axis=1, skipna=True)\n",
      "    \n",
      "#control['ADAPPT42'].hist(bins=10, range=[0,10], figsize=(12,8)) #doctor visits\n",
      "#control['AGELAST'].hist(bins=20, range=[0,100], figsize=(12,8)) #age last seen\n",
      "#allMerged['productivityLost').value_counts()\n",
      "#control['STRKDX'].value_counts()\n",
      "#genPop['popBodyCmpl'].value_counts()\n",
      "#TTLP14X: Person's Income\n",
      "#HIBPDX : High Blood Pressure, HIBPAGED: Age when diagnosed \n",
      "#BPMLDX: Multi Diag High Blood Pressure, BPMLDX\n",
      "#CHDDX: Coronary Hrt Disease, CHDAGED: age when was sick\n",
      "#ANGIDX: Angina diagnosis; MIDX: Heart Attack, OHRTDX: other heart attack\n",
      "#STRKDX: Stroke diagnosis, EMPHDX: Emphysima Diagnosis, CHOLDX: High Cholestorol diagnosis\n",
      "#DIABDX: Diabetes diagnosis\n",
      "#ADAPPT42: Visits to Med Office for Care\n",
      "#ADNDCR42: Need any care, Test, treatment\n",
      "#ADGENH42: Health in general\n",
      "#RXTOT14: Prescribed medications including Refills\n",
      "#TOTSLF14: Out-of-pocket expenditures\n",
      "#PERWT14F: Final person weight, used to average general population\n",
      "genPop = genPop[(genPop['bodyComplaintCnt']>0) & (genPop['priorDoctors']>0) & (genPop['waitYear']>0)]\n",
      "genPop['rating'] = 0"
     ],
     "language": "python",
     "metadata": {},
     "outputs": [],
     "prompt_number": 168
    },
    {
     "cell_type": "code",
     "collapsed": false,
     "input": [
      "%matplotlib inline\n",
      "import matplotlib.pyplot as plt\n",
      "import numpy as np\n",
      "\n",
      "fig = plt.figure()\n",
      "fig.subplots_adjust(hspace=.5)\n",
      "ax1 = fig.add_subplot(231)\n",
      "allMerged['priorDoctors'].hist(bins=20, range=[0,20],figsize=(12,8), label='CrowdMed',normed=True)\n",
      "genPop['priorDoctors'].hist(bins=20, range=[0,20], label=\"Gen. public\", alpha=0.6, normed=True)\n",
      "#ax1.title.set_text('Prior Doctors Seen')\n",
      "ax1.set_xlabel('Number of doctors seen')\n",
      "ax1.set_ylabel('Normalized Cnts/bin')\n",
      "plt.legend()\n",
      "\n",
      "ax2 = fig.add_subplot(232)\n",
      "allMerged['medicationCount'].hist(bins=15, range=[0,30],figsize=(12,8), label='CrowdMed',normed=True)\n",
      "genPop['medicationCount'].hist(bins=15, range=[0,30], label=\"Gen. public\", alpha=0.6, normed=True)\n",
      "#ax2.title.set_text('Total Medications Taken')\n",
      "ax2.set_xlabel('Medications taken')\n",
      "plt.legend()\n",
      "\n",
      "ax3 = fig.add_subplot(233)\n",
      "allMerged['waitYear'].hist(bins=30, range=[0,30],figsize=(12,8), label=\"CrowdMed\", normed=True)\n",
      "genPop['waitYear'].hist(bins=30, range=[0,30], label=\"Gen. public\", alpha=0.6, normed=True)\n",
      "#ax3.title.set_text('Total Years Sick')\n",
      "ax3.set_xlabel('Years sick')\n",
      "plt.legend()\n",
      "\n",
      "ax4 = fig.add_subplot(234)\n",
      "allMerged['age'].hist(bins=20, range=[0,100],figsize=(12,8), label='CrowdMed', normed=True)\n",
      "genPop['age'].hist(bins=20, range=[0,100], label=\"Gen. public\", alpha=0.6, normed=True)\n",
      "#ax4.title.set_text('Age')\n",
      "ax4.set_xlabel('Age')\n",
      "ax4.set_ylabel('Normalized Counts/bin')\n",
      "plt.legend()\n",
      "\n",
      "ax5 = fig.add_subplot(235)\n",
      "allMerged['bodyComplaintCnt'].hist(bins=15, range=[0,15],figsize=(12,8), label='CrowdMed', normed=True)\n",
      "genPop['bodyComplaintCnt'].hist(bins=15, range=[0,15], label=\"Gen pub\", alpha=0.6, normed=True)\n",
      "#ax5.title.set_text('Body Complaints')\n",
      "ax5.set_xlabel('Body Complaints')\n",
      "plt.legend()\n",
      "\n",
      "ax6 = fig.add_subplot(236)\n",
      "allMerged['costs'].hist(bins=15, range=[0,60],figsize=(12,8), label='CrowdMed', normed=True)\n",
      "genPop['costs'].hist(bins=15, range=[0,60], label=\"Gen pub\", alpha=0.6, normed=True)\n",
      "ax6.set_xlabel('Total Costs')\n",
      "plt.legend()\n",
      "\n",
      "plt.tight_layout()\n",
      "plt.show()\n",
      "#fig.savefig('featureDistribution.png')"
     ],
     "language": "python",
     "metadata": {},
     "outputs": [
      {
       "metadata": {},
       "output_type": "display_data",
       "png": "[encoded data removed]",
       "text": [
        "<matplotlib.figure.Figure at 0x7ff545e98b70>"
       ]
      }
     ],
     "prompt_number": 157
    },
    {
     "cell_type": "code",
     "collapsed": false,
     "input": [
      "from pylab import *\n",
      "from scipy.optimize import curve_fit\n",
      "import scipy.stats, math\n",
      "\n",
      "#now calculate chi distribution\n",
      "ageMean = allMerged['age'].mean() \n",
      "medCountMean = allMerged['medicationCount'].mean()\n",
      "waitMean = allMerged['waitYear'].mean()\n",
      "complaintMean = allMerged['bodyComplaintCnt'].mean()\n",
      "#print(waitMean)\n",
      "doctorMean = allMerged['priorDoctors'].mean()\n",
      "\n",
      "allMerged['chi'] = np.sqrt((allMerged['age']-ageMean)**2/10+(allMerged['medicationCount']-medCountMean)**2 \\\n",
      "                                 +10*(allMerged['waitYear']-waitMean)**2+20*(allMerged['priorDoctors']-doctorMean)**2\\\n",
      "                                 +(allMerged['bodyComplaintCnt']-complaintMean)**2)\n",
      "\n",
      "genPop['chi'] = np.sqrt((bkg['age']-ageMean)**2/10+(bkg['medicationCount']-medCountMean)**2 \\\n",
      "                                 +10*(bkg['waitYear']-waitMean)**2+20*(bkg['priorDoctors']-doctorMean)**2\\\n",
      "                                 +(bkg['bodyComplaintCnt']-complaintMean)**2)\n",
      "\n",
      "ax = bkg.ix[:,'chi'].hist(bins=50,range=[0,100],label='General Population',figsize=(12,8), normed=True)\n",
      "ax.set_xlabel('Chi Distribution',fontsize=20)\n",
      "bins,chiData,_ = hist(allMerged['chi'], bins=50, range=[0,100], label='CrowdMed Population',alpha=0.7, normed=True)\n",
      "legend()\n",
      "\n",
      "'''\n",
      "def gauss(x,mu,sigma,A):\n",
      "    return A*exp(-(x-mu)**2/2/sigma**2)\n",
      "\n",
      "expected=(33,10,200)\n",
      "params,cov=curve_fit(gauss,chiData[:-1],bins,expected)\n",
      "sigma=sqrt(diag(cov))\n",
      "bins2 = [item for item in range(0,100)]\n",
      "null = scipy.stats.norm(22.5,params[1]).pdf(22)\n",
      "alternate = scipy.stats.norm(40,params[1]).pdf(22)\n",
      "print(\"Null:{} alternative: {} and LogLikelihhod:{}\".format(null,alternate, null/alternate))\n",
      "'''\n",
      "\n",
      "plt.savefig('chiDistribution.png')\n"
     ],
     "language": "python",
     "metadata": {},
     "outputs": [
      {
       "metadata": {},
       "output_type": "display_data",
       "png": "[encoded data removed]",
       "text": [
        "<matplotlib.figure.Figure at 0x7ff51c29b748>"
       ]
      }
     ],
     "prompt_number": 169
    },
    {
     "cell_type": "code",
     "collapsed": false,
     "input": [
      "#Training features\n",
      "features = ['priorDoctors','age','waitYear','medicationCount','costs','rating','bodyComplaintCnt','chi'\n",
      "            #'male','female',\n",
      "            #'caucasian','other','jewish','hispanic','africanamerican',\n",
      "            #'amountRefunded','amountPaid','id','activityPercentile','allocatedMD',\n",
      "            #'incorrectDiagnosis','incorrectSolution',\n",
      "            #'symptomsCnt','struggleCnt','timeSpent','bodyComplaintCnt','thankYouCardSent',\n",
      "            #'surveyIncentiveAwarded'\n",
      "            #'neurological','abdominalordigestion','jointormuscular','wholebody','mentalhealth',\n",
      "            #'headorneck','skinorhair','eyesorvision','breathing',\n",
      "            #'vitamin','aspirin','fish','magnesium','multivitamin','gabapentin',\n",
      "            #'synthroid','clonazepam','zyrtec','tylenol'\n",
      "            ]\n",
      "#here subset = ['insight','rating','share'] if how='all', everything has to be NaN\n",
      "data = allMerged[features].dropna(subset=['costs','rating'],how='any')\n",
      "bkg = genPop[features]\n",
      "mergedDF = pd.concat([data,bkg])\n",
      "\n",
      "#data = pd.concat([cleaned,controlData])\n",
      "X,y1 = mergedDF[features].drop(['rating'],axis=1), mergedDF['rating']"
     ],
     "language": "python",
     "metadata": {},
     "outputs": [
      {
       "metadata": {},
       "output_type": "pyout",
       "prompt_number": 173,
       "text": [
        "(8670, 7)"
       ]
      }
     ],
     "prompt_number": 173
    },
    {
     "cell_type": "code",
     "collapsed": false,
     "input": [
      "from sklearn.ensemble import RandomForestClassifier\n",
      "\n",
      "feat_labels = X.columns\n",
      "forest = RandomForestClassifier(n_estimators=10000,random_state=0,n_jobs=-1)\n",
      "forest.fit(X, y1)\n",
      "importances = forest.feature_importances_\n",
      "indices = np.argsort(importances)[::-1]\n",
      "\n",
      "print(importances)\n",
      "fig = plt.figure(figsize=(12,8))\n",
      "plt.title('Feature Importances')\n",
      "plt.bar(range(X.shape[1]), importances[indices],color='Blue', align='center')\n",
      "plt.xticks(range(X.shape[1]), feat_labels[indices], rotation=90)\n",
      "plt.xlim([-1, X.shape[1]])\n",
      "#ax.xlabel(fontsize=18)\n",
      "plt.tight_layout()\n",
      "plt.show()\n",
      "fig.savefig('featureImportance.pdf')"
     ],
     "language": "python",
     "metadata": {},
     "outputs": [
      {
       "output_type": "stream",
       "stream": "stdout",
       "text": [
        "[ 0.38217755  0.06634727  0.12516204  0.05587311  0.08214287  0.20926031\n",
        "  0.07903684]\n"
       ]
      },
      {
       "metadata": {},
       "output_type": "display_data",
       "png": "[encoded data removed]",
       "text": [
        "<matplotlib.figure.Figure at 0x7ff551e76b38>"
       ]
      }
     ],
     "prompt_number": 174
    },
    {
     "cell_type": "code",
     "collapsed": false,
     "input": [
      "from sklearn.decomposition import PCA\n",
      "import seaborn as sns; sns.set(style=\"ticks\", color_codes=True)\n",
      "from sklearn.preprocessing import StandardScaler\n",
      "\n",
      "sc = StandardScaler()\n",
      "X_std = sc.fit_transform(X)\n",
      "\n",
      "pca = PCA(n_components=4)\n",
      "X_pca = pca.fit_transform(X_std)\n",
      "pca.explained_variance_ratio_\n",
      "\n",
      "plt.scatter(X_pca[y1.values==1, 1], X_pca[y1.values==1, 2],color='Blue', label='Yes')\n",
      "plt.scatter(X_pca[y1.values==0, 1], X_pca[y1.values==0, 2],color='Red',facecolors='None',label='No')\n",
      "plt.xlabel('PC 1')\n",
      "plt.ylabel('PC 2')\n",
      "plt.legend()\n",
      "plt.show()"
     ],
     "language": "python",
     "metadata": {},
     "outputs": [
      {
       "metadata": {},
       "output_type": "display_data",
       "png": "[encoded data removed]",
       "text": [
        "<matplotlib.figure.Figure at 0x7ff551880f60>"
       ]
      }
     ],
     "prompt_number": 179
    },
    {
     "cell_type": "code",
     "collapsed": false,
     "input": [
      "from imblearn.over_sampling import RandomOverSampler\n",
      "import sklearn\n",
      "\n",
      "# Apply the random over-sampling from imbalanced-learn\n",
      "ros = RandomOverSampler()\n",
      "X_balanced, y_balanced = ros.fit_sample(X, y1)\n",
      "Counter(y_balanced)\n",
      "\n",
      "from sklearn.cross_validation import StratifiedKFold\n",
      "folds_idx = cross_validation.StratifiedKFold(y1, n_folds=10) \n",
      "acc = []\n",
      "for n, (train_idx, test_idx) in enumerate(folds_idx):\n",
      "\n",
      "    # Oversample the training set to get a balanced training set\n",
      "    ros = RandomOverSampler()\n",
      "    train_x, train_y = ros.fit_sample(X[train_idx], y[train_idx])\n",
      "     \n",
      "    # Fit Random Forest\n",
      "    rfc = RandomForestClassifier()\n",
      "    rfc.fit(train_x, train_y)\n",
      " \n",
      "    #Make predictions on test data\n",
      "    preds_rfc = model.predict(X_norm[test_idx])\n",
      " \n",
      "    #Save results in lists\n",
      "    acc.append(accuracy_score(y1[test_idx], preds_rfc))\n",
      "\n"
     ],
     "language": "python",
     "metadata": {},
     "outputs": [
      {
       "ename": "ImportError",
       "evalue": "A sklearn version of at least 0.17.1 is required to use imbalanced-learn. 0.17 was found. Please upgrade sklearn",
       "output_type": "pyerr",
       "traceback": [
        "\u001b[0;31m---------------------------------------------------------------------------\u001b[0m\n\u001b[0;31mImportError\u001b[0m                               Traceback (most recent call last)",
        "\u001b[0;32m<ipython-input-188-fc19c665db39>\u001b[0m in \u001b[0;36m<module>\u001b[0;34m()\u001b[0m\n\u001b[0;32m----> 1\u001b[0;31m \u001b[0;32mfrom\u001b[0m \u001b[0mimblearn\u001b[0m\u001b[0;34m.\u001b[0m\u001b[0mover_sampling\u001b[0m \u001b[0;32mimport\u001b[0m \u001b[0mRandomOverSampler\u001b[0m\u001b[0;34m\u001b[0m\u001b[0m\n\u001b[0m\u001b[1;32m      2\u001b[0m \u001b[0;32mimport\u001b[0m \u001b[0msklearn\u001b[0m\u001b[0;34m\u001b[0m\u001b[0m\n\u001b[1;32m      3\u001b[0m \u001b[0;34m\u001b[0m\u001b[0m\n\u001b[1;32m      4\u001b[0m \u001b[0;31m# Apply the random over-sampling from imbalanced-learn\u001b[0m\u001b[0;34m\u001b[0m\u001b[0;34m\u001b[0m\u001b[0m\n\u001b[1;32m      5\u001b[0m \u001b[0mros\u001b[0m \u001b[0;34m=\u001b[0m \u001b[0mRandomOverSampler\u001b[0m\u001b[0;34m(\u001b[0m\u001b[0;34m)\u001b[0m\u001b[0;34m\u001b[0m\u001b[0m\n",
        "\u001b[0;32m/home/maksat/.local/lib/python3.5/site-packages/imblearn/__init__.py\u001b[0m in \u001b[0;36m<module>\u001b[0;34m()\u001b[0m\n\u001b[1;32m     19\u001b[0m \u001b[0;32mfrom\u001b[0m \u001b[0;34m.\u001b[0m\u001b[0mversion\u001b[0m \u001b[0;32mimport\u001b[0m \u001b[0m_check_module_dependencies\u001b[0m\u001b[0;34m,\u001b[0m \u001b[0m__version__\u001b[0m\u001b[0;34m\u001b[0m\u001b[0m\n\u001b[1;32m     20\u001b[0m \u001b[0;34m\u001b[0m\u001b[0m\n\u001b[0;32m---> 21\u001b[0;31m \u001b[0m_check_module_dependencies\u001b[0m\u001b[0;34m(\u001b[0m\u001b[0;34m)\u001b[0m\u001b[0;34m\u001b[0m\u001b[0m\n\u001b[0m\u001b[1;32m     22\u001b[0m \u001b[0;34m\u001b[0m\u001b[0m\n\u001b[1;32m     23\u001b[0m \u001b[0;31m# Boolean controlling whether the joblib caches should be\u001b[0m\u001b[0;34m\u001b[0m\u001b[0;34m\u001b[0m\u001b[0m\n",
        "\u001b[0;32m/home/maksat/.local/lib/python3.5/site-packages/imblearn/version.py\u001b[0m in \u001b[0;36m_check_module_dependencies\u001b[0;34m(is_imbalanced_dataset_installing)\u001b[0m\n\u001b[1;32m    101\u001b[0m                 \u001b[0mmodule_name\u001b[0m\u001b[0;34m=\u001b[0m\u001b[0mmodule_name\u001b[0m\u001b[0;34m,\u001b[0m\u001b[0;34m\u001b[0m\u001b[0m\n\u001b[1;32m    102\u001b[0m                 \u001b[0mminimum_version\u001b[0m\u001b[0;34m=\u001b[0m\u001b[0mmodule_metadata\u001b[0m\u001b[0;34m[\u001b[0m\u001b[0;34m'min_version'\u001b[0m\u001b[0;34m]\u001b[0m\u001b[0;34m,\u001b[0m\u001b[0;34m\u001b[0m\u001b[0m\n\u001b[0;32m--> 103\u001b[0;31m                 install_info=module_metadata.get('install_info'))\n\u001b[0m",
        "\u001b[0;32m/home/maksat/.local/lib/python3.5/site-packages/imblearn/version.py\u001b[0m in \u001b[0;36m_import_module_with_version_check\u001b[0;34m(module_name, minimum_version, install_info)\u001b[0m\n\u001b[1;32m     76\u001b[0m                 module_version=module_version)\n\u001b[1;32m     77\u001b[0m \u001b[0;34m\u001b[0m\u001b[0m\n\u001b[0;32m---> 78\u001b[0;31m         \u001b[0;32mraise\u001b[0m \u001b[0mImportError\u001b[0m\u001b[0;34m(\u001b[0m\u001b[0mmessage\u001b[0m\u001b[0;34m)\u001b[0m\u001b[0;34m\u001b[0m\u001b[0m\n\u001b[0m\u001b[1;32m     79\u001b[0m \u001b[0;34m\u001b[0m\u001b[0m\n\u001b[1;32m     80\u001b[0m     \u001b[0;32mreturn\u001b[0m \u001b[0mmodule\u001b[0m\u001b[0;34m\u001b[0m\u001b[0m\n",
        "\u001b[0;31mImportError\u001b[0m: A sklearn version of at least 0.17.1 is required to use imbalanced-learn. 0.17 was found. Please upgrade sklearn"
       ]
      }
     ],
     "prompt_number": 188
    },
    {
     "cell_type": "code",
     "collapsed": false,
     "input": [
      "#start trining\n",
      "from sklearn.cross_validation import train_test_split\n",
      "from sklearn import cross_validation\n",
      "from sklearn.naive_bayes import MultinomialNB\n",
      "from sklearn.linear_model import LogisticRegression,LinearRegression, SGDClassifier\n",
      "from sklearn.neighbors import KNeighborsClassifier\n",
      "from sklearn.tree import DecisionTreeClassifier\n",
      "from sklearn.ensemble import RandomForestClassifier,ExtraTreesClassifier,VotingClassifier\n",
      "from pandas.tools.plotting import andrews_curves\n",
      "from sklearn import preprocessing\n",
      "from sklearn import metrics\n",
      "\n",
      "\n",
      "minMaxScaler = preprocessing.MinMaxScaler()\n",
      "robustScaler = preprocessing.RobustScaler()\n",
      "normalizer = preprocessing.Normalizer()\n",
      "#X = minMaxScaler.fit_transform(X)\n",
      "#X = robustScaler.fit_transform(X)\n",
      "X = normalizer.fit_transform(X)\n",
      "\n",
      "\n",
      "clf1 = KNeighborsClassifier()\n",
      "clf2 = RandomForestClassifier()\n",
      "clf3 = DecisionTreeClassifier()\n",
      "clf4 = ExtraTreesClassifier()\n",
      "clf5 = MultinomialNB()\n",
      "#clf6 = SGDClassifier()\n",
      "clf6 = LogisticRegression()\n",
      "\n",
      "eclf = VotingClassifier(estimators=[('kNN', clf1), ('rf', clf2), ('dt', clf3), \n",
      "                                    ('et',clf4),('nb',clf5),('lr',clf6)], voting='hard')\n",
      "\n",
      "import numpy as np\n",
      "\n",
      "#split data\n",
      "state = np.random.randint(0,10)\n",
      "X_train, X_test, y1_train, y1_test = train_test_split(X,y1, random_state=state, test_size=0.3)\n",
      "\n",
      "clf3.fit(X_train,y1_train)\n",
      "y_pred = clf3.predict(X_test)\n",
      "\n",
      "#call accuracy score\n",
      "print(\"Random:{}\".format(sum(y1==0)/float(len(y1))))\n",
      "print(\"Prediction Score:{}\".format(metrics.accuracy_score(y1_test,y_pred)))\n",
      "print(\"Training score:{}\".format(metrics.accuracy_score(y1_train,clf3.predict(X_train))))"
     ],
     "language": "python",
     "metadata": {},
     "outputs": [
      {
       "output_type": "stream",
       "stream": "stdout",
       "text": [
        "Random:0.9357554786620531\n",
        "Prediction Score:0.9630911188004614\n",
        "Training score:1.0\n"
       ]
      }
     ],
     "prompt_number": 184
    },
    {
     "cell_type": "code",
     "collapsed": false,
     "input": [
      "for clf, label in zip([clf1, clf2, clf3, clf4, clf5, clf6, clf7, eclf], \n",
      "        ['KNeighborsClassifier','Random Forest','DecisionTreeClassifier','ExtraTreesClassifier',\n",
      "         'Multinomial Bayes', 'Logistic Regression', 'Ensemble']):\n",
      "    scores = cross_validation.cross_val_score(clf, X, y1, cv=3, scoring='accuracy')\n",
      "    print(\"Accuracy: %0.2f (+/- %0.2f) [%s]\" % (scores.mean(), scores.std(), label))"
     ],
     "language": "python",
     "metadata": {},
     "outputs": [
      {
       "output_type": "stream",
       "stream": "stdout",
       "text": [
        "Accuracy: 0.56 (+/- 0.05) [KNeighborsClassifier]\n",
        "Accuracy: 0.64 (+/- 0.06) [Random Forest]"
       ]
      },
      {
       "output_type": "stream",
       "stream": "stdout",
       "text": [
        "\n",
        "Accuracy: 0.67 (+/- 0.04) [DecisionTreeClassifier]\n",
        "Accuracy: 0.64 (+/- 0.04) [ExtraTreesClassifier]"
       ]
      },
      {
       "output_type": "stream",
       "stream": "stdout",
       "text": [
        "\n",
        "Accuracy: 0.65 (+/- 0.00) [Multinomial Bayes]\n",
        "Accuracy: 0.64 (+/- 0.01) [Logistic Regression]\n",
        "Accuracy: 0.64 (+/- 0.01) [Ensemble]\n"
       ]
      }
     ],
     "prompt_number": 900
    },
    {
     "cell_type": "code",
     "collapsed": false,
     "input": [
      "#save model in pickle\n",
      "import pickle\n",
      "f = open('app/simple_clasifier.pickle', 'wb')\n",
      "pickle.dump(clf1, f)\n",
      "f.close()"
     ],
     "language": "python",
     "metadata": {},
     "outputs": [],
     "prompt_number": 861
    },
    {
     "cell_type": "code",
     "collapsed": false,
     "input": [
      "#print(dir(clf1))\n",
      "#print(clf1.feature_importances_[0])"
     ],
     "language": "python",
     "metadata": {},
     "outputs": [
      {
       "output_type": "stream",
       "stream": "stdout",
       "text": [
        "0.15003219561\n"
       ]
      }
     ],
     "prompt_number": 92
    },
    {
     "cell_type": "code",
     "collapsed": false,
     "input": [],
     "language": "python",
     "metadata": {},
     "outputs": [],
     "prompt_number": 617
    },
    {
     "cell_type": "code",
     "collapsed": false,
     "input": [],
     "language": "python",
     "metadata": {},
     "outputs": []
    }
   ],
   "metadata": {}
  }
 ]
}