{
 "metadata": {
  "kernelspec": {
   "display_name": "Python 2",
   "language": "python",
   "name": "python2"
  },
  "language_info": {
   "codemirror_mode": {
    "name": "ipython",
    "version": 2
   },
   "file_extension": ".py",
   "mimetype": "text/x-python",
   "name": "python",
   "nbconvert_exporter": "python",
   "pygments_lexer": "ipython2",
   "version": "2.7.12"
  },
  "name": "",
  "signature": "sha256:bcb49118daf459e17e7e7b17e0ab5b7c178dc58fb29ee290f117fc68b8d6ec2e"
 },
 "nbformat": 3,
 "nbformat_minor": 0,
 "worksheets": [
  {
   "cells": [
    {
     "cell_type": "markdown",
     "metadata": {},
     "source": [
      "# Week 2 -- Cleaning Data\n",
      "\n",
      "Three files that I recieved from CrowdMed. \n",
      "\n",
      "***mds.json*** Collection of users mds or patients\n",
      "\n",
      "***medcases.json*** Collection of cases, with description\n",
      "\n",
      "***surveyanswers.json*** Collection surveys for medcases"
     ]
    },
    {
     "cell_type": "code",
     "collapsed": false,
     "input": [
      "##Import JSON\n",
      "import json\n",
      "import pandas as pd\n",
      "mds = pd.read_json('/home/maksat/Desktop/Insight/mds.json')\n",
      "medcases = pd.read_json('/home/maksat/Desktop/Insight/medcases.json')\n",
      "survey = pd.read_json('/home/maksat/Desktop/Insight/surveyanswers.json')\n",
      "\n",
      "#Investigate each column.\n",
      "print(mds.shape)\n",
      "print(medcases.shape)\n",
      "print(survey.shape)\n",
      "#for item in medcases.columns:\n",
      " #   print(item)"
     ],
     "language": "python",
     "metadata": {},
     "outputs": [
      {
       "output_type": "stream",
       "stream": "stdout",
       "text": [
        "(37809, 111)\n",
        "(7888, 201)\n",
        "(928, 7)\n"
       ]
      }
     ],
     "prompt_number": 1
    },
    {
     "cell_type": "code",
     "collapsed": false,
     "input": [
      "#preprocess surveys\n",
      "%matplotlib inline\n",
      "import matplotlib.pyplot as plt\n",
      "print(\"Survey:{}\".format(survey.shape))\n",
      "#print(survey[~match][['_id','medcase']])\n",
      "survey['_id'] = survey['medcase']\n",
      "\n",
      "def getRating(row):\n",
      "    for item in row:\n",
      "        if item['key']=='rating':\n",
      "            return int(item['value'])\n",
      "def getInsight(row):\n",
      "    for item in row:\n",
      "        if item['key']=='insights':\n",
      "            return item['value']\n",
      "def getShare(row):\n",
      "    for item in row:\n",
      "        if item['key']=='share':\n",
      "            return item['value']\n",
      "        \n",
      "survey['rating'] = survey.questions.apply(getRating)\n",
      "survey['insight'] = survey.questions.apply(getInsight)\n",
      "survey['share'] = survey.questions.apply(getShare)\n",
      "\n",
      "import re\n",
      "#year case was creatred\n",
      "medcases['year'] = medcases['created'].apply(lambda x: re.findall(r'([0-9]+?)-',str(x))[0])\n",
      "\n",
      "medCaseCols = ['_id','user','activityPercentile','medications','medicationCount','lifestyle','caseDuration','surveyAnswered',\n",
      "               'familyHistory','costs','country','diseaseYear','ethnicity','year','birthYear','reward','id','medicalHistory',\n",
      "               'primaryBodySystem','primaryComplaint','priorDoctors','productivityLost','created','resolved',\n",
      "               'state','struggle','symptoms','timeSpent','surveyAnswered','gender','healthPlan']\n",
      "surveyCols = ['_id','rating','insight','share']\n",
      "mdsCols = ['_id','balance','cashWon']\n",
      "\n",
      "#merging medcase and surveys\n",
      "surveyAndMedCase = pd.merge(survey[surveyCols],medcases[medCaseCols], on='_id')\n",
      "print('SurveyAndMedCase:{}'.format(surveyAndMedCase.shape))\n",
      "#surveyIds = {item:0 for item in survey['_id']}\n",
      "\n",
      "#now 'user' in surveyAndMedCase == '_id' in mds\n",
      "surveyAndMedCase['_id'] = surveyAndMedCase['user']\n",
      "surveyAndMedCase.pop('user')\n",
      "allMerged = pd.merge(mds[mdsCols], surveyAndMedCase, on='_id')\n",
      "print('AllMerged:{}'.format(allMerged.shape))\n",
      "\n",
      "#add features, age of patient when diseas started\n",
      "allMerged['age'] = allMerged['year'].astype(int)-allMerged['birthYear'].astype(int)\n",
      "#how long patient waiting before using crowdmed\n",
      "allMerged['waitYear'] = allMerged['year'].astype(int)-allMerged['diseaseYear'].astype(int)\n",
      "#how much money is saved\n",
      "allMerged = allMerged.dropna(subset=['costs'],how='any')\n",
      "allMerged['moneySaved'] = allMerged['costs'].astype(int)-allMerged['reward'].astype(int)/100\n",
      "allMerged['reward'] = allMerged['reward'].apply(lambda x: int(x)/100)\n",
      "allMerged['costs'] = allMerged['costs'].apply(lambda x: int(x)/1000)\n",
      "allMerged['cashWon'] = allMerged['cashWon'].apply(lambda x: int(x)/100)\n",
      "\n",
      "#allMerged['medications'].value_counts().plot(kind='bar')\n",
      "#allMerged[allMerged['priorDoctors']<50]['priorDoctors'].describe()\n",
      "#allMerged.medications[5]\n",
      "#print(medcases[medcases.ethnicity.isnull()])\n",
      "\n",
      "import re\n",
      "def getEthnicity(item):\n",
      "    if str(item)=='NaN':\n",
      "        return 'NaN'\n",
      "    elif re.findall(r'(^[Cc]auca)[Aa]sian|[Cc]inese',item):\n",
      "        return 'Asian'\n",
      "    elif re.findall(r'[Hh]ispanic|[Ll]atino',item):\n",
      "        return 'Hispanic'\n",
      "    elif re.findall(r'[Cc]aucasi[ao]n|[Ww]hite',item): \n",
      "        return 'Caucasian'\n",
      "    elif re.findall(r'[Aa]frica|[Bb]lack',item):\n",
      "        return 'African-American'\n",
      "    elif re.findall(r'[Jj]ewish|[Aa]shkenazi',item):\n",
      "        return 'Jewish'\n",
      "    else:\n",
      "        return 'European'\n",
      "\n",
      "allMerged.ethnicity = allMerged.ethnicity.apply(lambda x: getEthnicity(x))\n",
      "\n",
      "def getMedications(x):\n",
      "            meds = []\n",
      "            for item in x:\n",
      "                meds.append(item['name'].rsplit(' ')[0].replace(',','').lower())\n",
      "            meds = ' '.join(meds)\n",
      "            return meds\n",
      "\n",
      "allMerged['meds'] = allMerged['medications'].apply(lambda x: getMedications(x)) \n",
      "\n",
      "#allMerged[allMerged.age<3][['age','waitYear','year','created','diseaseYear','birthYear']]\n",
      "#allMerged[allMerged.caseDuration<100].rating.hist()\n",
      "\n",
      "#tokenizers ; word tokenizer and sentence tokenizers\n",
      "#lexicons and corporas\n",
      "#corpora: body of text: medical journals, predentials speechs, \n",
      "#lexicon: words and meanings\n"
     ],
     "language": "python",
     "metadata": {},
     "outputs": [
      {
       "output_type": "stream",
       "stream": "stdout",
       "text": [
        "Survey:(928, 10)\n",
        "SurveyAndMedCase:(921, 34)"
       ]
      },
      {
       "output_type": "stream",
       "stream": "stdout",
       "text": [
        "\n",
        "AllMerged:(919, 35)\n"
       ]
      }
     ],
     "prompt_number": 29
    },
    {
     "cell_type": "code",
     "collapsed": false,
     "input": [
      "from nltk.tokenize import sent_tokenize, word_tokenize, PunktSentenceTokenizer\n",
      "from nltk.corpus import stopwords\n",
      "#stemming algorithm, removes ing, s\n",
      "from nltk.stem import PorterStemmer\n",
      "from nltk.corpus import state_union\n",
      "import nltk,string\n",
      "\n",
      "stop_words = set(stopwords.words(\"english\"))\n",
      "punct = set(item for item in string.punctuation)\n",
      "\n",
      "#allMerged['meds']\n",
      "#len(medcases[medcases.incorrectSolution.notnull()])\n",
      "#medcases[medcases.incorrectDiagnosis.notnull()]['_id']"
     ],
     "language": "python",
     "metadata": {},
     "outputs": [],
     "prompt_number": 25
    },
    {
     "cell_type": "code",
     "collapsed": false,
     "input": [
      "from sklearn.feature_extraction.text import CountVectorizer\n",
      "from sklearn.feature_extraction.text import ENGLISH_STOP_WORDS\n",
      "from sklearn.feature_extraction.text import TfidfTransformer\n",
      "from sklearn.feature_extraction.text import TfidfVectorizer\n",
      "vect = CountVectorizer()\n",
      "\n",
      "#There is also caseChallenge, each user solved. This might be helpfull \n",
      "features = ['priorDoctors','age','waitYear','id','meds',\n",
      "            'ethnicity','gender','medicationCount','costs','insight'\n",
      "            #'_id','share','insight','timeSpent','activityPercentile',\n",
      "            ]\n",
      "#here subset = ['insight','rating','share'] if how='all', everything has to be NaN\n",
      "data = allMerged[features].dropna(subset=['costs','insight'],how='any')\n",
      "\n",
      "#data = pd.concat([cleaned,controlData])\n",
      "#controlData['gender'],b = pd.factorize(controlData['gender'])\n",
      "X,y1 = data[features].drop(['insight','id'],axis=1), data['insight']\n",
      "#y2, b = pd.factorize(data['insight'])\n",
      "\n",
      "X['gender'],b = pd.factorize(X['gender'])\n",
      "X['ethnicity'],b = pd.factorize(X['ethnicity'])\n",
      "\n",
      "#X_DTM = vect.fit_transform(X['meds'])\n",
      "#data.ix[:,features].hist(figsize=(15,10))\n",
      "#data.id\n",
      "#dfTrain = pd.DataFrame(X_DTM.toarray(),columns=vect.get_feature_names())\n",
      "#dfTrain.head()\n",
      "X_dtm1 = vect.fit_transform(X_train['meds'])"
     ],
     "language": "python",
     "metadata": {},
     "outputs": [],
     "prompt_number": 80
    },
    {
     "cell_type": "code",
     "collapsed": false,
     "input": [
      "fig = plt.figure()\n",
      "ax1 = fig.add_subplot(221)\n",
      "controlData.ix[:,'priorDoctors'].hist(bins=50, range=[0,50],figsize=(12,8))\n",
      "data.ix[:,'priorDoctors'].hist(bins=50, range=[0,50])\n",
      "ax1.title.set_text('Prior Doctors')\n",
      "ax1.set_yscale(\"log\", nonposx='clip')\n",
      "\n",
      "ax2 = fig.add_subplot(222)\n",
      "controlData.ix[:,'age'].hist(bins=100, range=[0,100],figsize=(12,8))\n",
      "data.ix[:,'age'].hist(bins=100, range=[0,100])\n",
      "ax2.title.set_text('Age')\n",
      "ax2.set_yscale(\"log\", nonposy='clip')\n",
      "\n",
      "ax3 = fig.add_subplot(223)\n",
      "controlData.ix[:,'waitYear'].hist(bins=60, range=[0,60],figsize=(12,8))\n",
      "data.ix[:,'waitYear'].hist(bins=60, range=[0,60])\n",
      "ax3.title.set_text('Disease Years')\n",
      "ax3.set_yscale(\"log\", nonposy='clip')\n",
      "\n",
      "ax4 = fig.add_subplot(224)\n",
      "controlData.ix[:,'medicationCount'].hist(bins=20, range=[0,20],figsize=(12,8))\n",
      "data.ix[:,'medicationCount'].hist(bins=20, range=[0,20])\n",
      "ax4.title.set_text('Medication Count')\n",
      "ax4.set_yscale(\"log\", nonposy='clip')"
     ],
     "language": "python",
     "metadata": {},
     "outputs": [
      {
       "metadata": {},
       "output_type": "display_data",
       "png": "[encoded data removed]",
       "text": [
        "<matplotlib.figure.Figure at 0x7f7b0c778518>"
       ]
      }
     ],
     "prompt_number": 13
    },
    {
     "cell_type": "code",
     "collapsed": false,
     "input": [
      "#start trining\n",
      "from sklearn.cross_validation import train_test_split\n",
      "from sklearn.naive_bayes import MultinomialNB\n",
      "from sklearn.linear_model import LogisticRegression,LinearRegression, SGDClassifier\n",
      "from sklearn.neighbors import KNeighborsClassifier\n",
      "from sklearn.tree import DecisionTreeClassifier\n",
      "from sklearn.ensemble import RandomForestClassifier,ExtraTreesClassifier\n",
      "from pandas.tools.plotting import andrews_curves\n",
      "from sklearn import preprocessing\n",
      "from sklearn import metrics\n",
      "\n",
      "minMaxScaler = preprocessing.MinMaxScaler()\n",
      "robustScaler = preprocessing.RobustScaler()\n",
      "#X = minMaxScaler.fit_transform(X)\n",
      "#X = robustScaler.fit_transform(X)\n",
      "#X['age'] = X['age'].reshape(-1,1)\n",
      "\n",
      "#print(X)\n",
      "#clf1 = LogisticRegression()\n",
      "#clf1 = KNeighborsClassifier()\n",
      "clf1 = RandomForestClassifier()\n",
      "#clf1 = DecisionTreeClassifier()\n",
      "#clf1 = ExtraTreesClassifier()\n",
      "#clf1 = MultinomialNB()\n",
      "#clf = SGDClassifier()\n",
      "import numpy as np\n",
      "\n",
      "#split data\n",
      "state = np.random.randint(0,10)\n",
      "X_train, X_test, y1_train, y1_test = train_test_split(X,y1, random_state=state, test_size=0.2)\n",
      "\n",
      "#print(X_test)\n",
      "#add text\n",
      "X_dtm1 = vect.fit_transform(X_train['meds'])\n",
      "X_dtm2 = vect.transform(X_test['meds'])\n",
      "\n",
      "#convert it to pandas\n",
      "X_trainDTM = pd.DataFrame(X_dtm1.toarray(),columns=vect.get_feature_names())\n",
      "X_testDTM = pd.DataFrame(X_dtm2.toarray(),columns=vect.get_feature_names())\n",
      "print(X_trainDTM.head())\n",
      "\n",
      "#print(X_train.head())\n",
      "#X_train = pd.concat([X_train,X_trainDTM],axis=1)\n",
      "#X_test = pd.concat([X_test,X_testDTM],axis=1)\n",
      "\n",
      "\n",
      "#train data\n",
      "#clf1.fit(X_train,y1_train)\n",
      "#y_pred = clf1.predict(X_test)\n",
      "\n",
      "#call accuracy score\n",
      "#print(y_pred)\n",
      "#print(\"Random:{}\".format(sum(y1=='Yes')/float(len(y1))))\n",
      "#print(\"Prediction Score:{}\".format(metrics.accuracy_score(y1_test,y_pred)))\n",
      "#print(\"Training score:{}\".format(metrics.accuracy_score(y1_train,clf1.predict(X_train))))"
     ],
     "language": "python",
     "metadata": {},
     "outputs": [
      {
       "output_type": "stream",
       "stream": "stdout",
       "text": [
        "   10  100  1000mcg  100mgx6  112mcg  12  15mg  20  2000  25   ...    zofran  \\\n",
        "0   0    0        0        0       0   0     0   0     0   0   ...         0   \n",
        "1   0    0        0        0       0   0     0   0     0   0   ...         0   \n",
        "2   0    0        0        0       0   0     0   0     0   0   ...         0   \n",
        "3   0    0        0        0       0   0     0   0     0   0   ...         0   \n",
        "4   0    0        0        0       0   0     0   0     0   0   ...         0   \n",
        "\n",
        "   zoloft  zolpidem  zomig  zonisamide  zorran  zovirax  zyflo  zyme  zyrtec  \n",
        "0       0         0      0           0       0        0      0     0       0  \n",
        "1       0         0      0           0       0        0      0     0       0  \n",
        "2       0         0      0           0       0        0      0     0       0  \n",
        "3       0         0      0           0       0        0      0     0       0  \n",
        "4       0         0      0           0       0        0      0     0       0  \n",
        "\n",
        "[5 rows x 1034 columns]\n"
       ]
      }
     ],
     "prompt_number": 79
    },
    {
     "cell_type": "code",
     "collapsed": false,
     "input": [
      "#save model in pickle\n",
      "import pickle\n",
      "f = open('app/simple_clasifier.pickle', 'wb')\n",
      "pickle.dump(clf1, f)\n",
      "f.close()"
     ],
     "language": "python",
     "metadata": {},
     "outputs": [],
     "prompt_number": 91
    },
    {
     "cell_type": "code",
     "collapsed": false,
     "input": [
      "#print(dir(clf1))\n",
      "#print(clf1.feature_importances_[0])"
     ],
     "language": "python",
     "metadata": {},
     "outputs": [
      {
       "output_type": "stream",
       "stream": "stdout",
       "text": [
        "0.15003219561\n"
       ]
      }
     ],
     "prompt_number": 92
    },
    {
     "cell_type": "code",
     "collapsed": false,
     "input": [],
     "language": "python",
     "metadata": {},
     "outputs": []
    }
   ],
   "metadata": {}
  }
 ]
}