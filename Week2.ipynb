{
 "metadata": {
  "kernelspec": {
   "display_name": "Python 2",
   "language": "python",
   "name": "python2"
  },
  "language_info": {
   "codemirror_mode": {
    "name": "ipython",
    "version": 2
   },
   "file_extension": ".py",
   "mimetype": "text/x-python",
   "name": "python",
   "nbconvert_exporter": "python",
   "pygments_lexer": "ipython2",
   "version": "2.7.12"
  },
  "name": "",
  "signature": "sha256:ede8d5cec42036d26a0940b8f0319aa9df0f29e72b2b6168287bd81e3055b09d"
 },
 "nbformat": 3,
 "nbformat_minor": 0,
 "worksheets": [
  {
   "cells": [
    {
     "cell_type": "markdown",
     "metadata": {},
     "source": [
      "# Week 2 -- Cleaning Data\n",
      "\n",
      "Three files that I recieved from CrowdMed. \n",
      "\n",
      "***mds.json*** Collection of users mds or patients\n",
      "\n",
      "***medcases.json*** Collection of cases, with description\n",
      "\n",
      "***surveyanswers.json*** Collection surveys for medcases"
     ]
    },
    {
     "cell_type": "code",
     "collapsed": false,
     "input": [
      "##Import JSON\n",
      "import json\n",
      "import pandas as pd\n",
      "mds = pd.read_json('/home/maksat/Desktop/Insight/mds.json')\n",
      "medcases = pd.read_json('/home/maksat/Desktop/Insight/medcases.json')\n",
      "survey = pd.read_json('/home/maksat/Desktop/Insight/surveyanswers.json')\n",
      "\n",
      "#Investigate each column.\n",
      "print(mds.shape)\n",
      "print(medcases.shape)\n",
      "print(survey.shape)\n",
      "#for item in medcases.columns:\n",
      "#    print(item)"
     ],
     "language": "python",
     "metadata": {},
     "outputs": [
      {
       "output_type": "stream",
       "stream": "stdout",
       "text": [
        "(37809, 111)\n",
        "(7888, 201)\n",
        "(928, 7)\n"
       ]
      }
     ],
     "prompt_number": 1
    },
    {
     "cell_type": "code",
     "collapsed": false,
     "input": [
      "#mergeMdAndCase = pd.merge(mds,medcases,on='_id')\n",
      "#mdsId = {item:0 for item in mds._id}\n",
      "#print(len(mdsId))\n",
      "#caseId = {item:0 for item in medcases.user}\n",
      "#print(len(caseId))\n",
      "#print(sum(1 for case in caseId if case in mdsId))\n",
      "#for item in mds.columns:\n",
      "#    print(item)"
     ],
     "language": "python",
     "metadata": {},
     "outputs": [],
     "prompt_number": 2
    },
    {
     "cell_type": "code",
     "collapsed": false,
     "input": [
      "#preprocess surveys\n",
      "print(\"Survey:{}\".format(survey.shape))\n",
      "survey['_id'] = survey.medcase\n",
      "def getRating(row):\n",
      "    for item in row:\n",
      "        if item['key']=='rating':\n",
      "            return int(item['value'])\n",
      "def getInsight(row):\n",
      "    for item in row:\n",
      "        if item['key']=='insights':\n",
      "            return item['value']\n",
      "def getShare(row):\n",
      "    for item in row:\n",
      "        if item['key']=='share':\n",
      "            return item['value']\n",
      "        \n",
      "survey['rating'] = survey.questions.apply(getRating)\n",
      "survey['insight'] = survey.questions.apply(getInsight)\n",
      "survey['share'] = survey.questions.apply(getShare)\n",
      "\n",
      "#preprocess medcases\n",
      "import re\n",
      "medcases['year'] = medcases['created'].apply(lambda x: re.findall(r'([0-9]+?)-',str(x))[0])\n",
      "\n",
      "#print(survey[['questions','rating','insight','share']])\n",
      "#surveyCase = {item:0 for item in survey.medcase}\n",
      "#surveyId = {item:0 for item in survey._id}\n",
      "#print(sum(1 for item in medcases._id if item in surveyCase))\n",
      "medCaseCols = ['_id','user','activityPercentile','birthYear','medications','medicationCount','lifestyle','familyHistory','costs','country','year','diseaseYear','ethnicity',\n",
      "               #'traditionalExperience','patientDiagnoses','patientSolutions',\n",
      "               'primaryBodySystem','primaryComplaint','priorDoctors','productivityLost','reported','resolved',\n",
      "               'state','struggle','symptoms','tests','timeSpent','surveyAnswered','gender','healthPlan']\n",
      "surveyCols = ['_id','rating','insight','share']\n",
      "mdsCols = ['_id','balance','percentile','cashWon']\n",
      "\n",
      "#merging medcase and surveys\n",
      "surveyAndMedCase = pd.merge(survey[surveyCols],medcases[medCaseCols], on='_id')\n",
      "print('SurveyAndMedCase:{}'.format(surveyAndMedCase.shape))\n",
      "#now 'user' in surveyAndMedCase == '_id' in mds\n",
      "surveyAndMedCase['_id'] = surveyAndMedCase['user']\n",
      "surveyAndMedCase.pop('user')\n",
      "allMerged = pd.merge(mds[mdsCols], surveyAndMedCase, on='_id')\n",
      "print('AllMerged:{}'.format(allMerged.shape))\n",
      "#surveyAndMedCase"
     ],
     "language": "python",
     "metadata": {},
     "outputs": [
      {
       "output_type": "stream",
       "stream": "stdout",
       "text": [
        "Survey:(928, 10)\n",
        "SurveyAndMedCase:(921, 30)"
       ]
      },
      {
       "output_type": "stream",
       "stream": "stdout",
       "text": [
        "\n",
        "AllMerged:(919, 32)\n"
       ]
      }
     ],
     "prompt_number": 47
    },
    {
     "cell_type": "code",
     "collapsed": false,
     "input": [
      "#Look at output correlation\n",
      "import matplotlib.pyplot as plt\n",
      "survey[['rating','insight','share']]\n",
      "survey['rating'].value_counts().plot(kind='bar')\n",
      "plt.xlabel('Rating')\n",
      "plt.ylabel('Counts')\n",
      "plt.grid(True)\n",
      "plt.show()"
     ],
     "language": "python",
     "metadata": {},
     "outputs": [],
     "prompt_number": 39
    },
    {
     "cell_type": "code",
     "collapsed": false,
     "input": [
      "#Moderators, are here\n",
      "#survey.groupby('insight').rating.hist()\n",
      "survey.groupby('share').rating.hist(alpha=0.4)\n",
      "plt.show()"
     ],
     "language": "python",
     "metadata": {},
     "outputs": [],
     "prompt_number": 46
    },
    {
     "cell_type": "code",
     "collapsed": false,
     "input": [
      "#There is also caseChallenge, each user solved. This might be helpfull \n",
      "#to distinguish MD from patient. \n",
      "data[data.caseChallenge.notnull()].caseChallenge[:10]"
     ],
     "language": "python",
     "metadata": {},
     "outputs": [
      {
       "metadata": {},
       "output_type": "pyout",
       "prompt_number": 14,
       "text": [
        "0         {'points': 39}\n",
        "20       {'points': 349}\n",
        "50      {'points': 2358}\n",
        "96     {'points': 11735}\n",
        "111      {'points': 906}\n",
        "130     {'points': 2352}\n",
        "169     {'points': 4597}\n",
        "236      {'points': 365}\n",
        "249     {'points': 3765}\n",
        "253    {'points': 55699}\n",
        "Name: caseChallenge, dtype: object"
       ]
      }
     ],
     "prompt_number": 14
    }
   ],
   "metadata": {}
  }
 ]
}