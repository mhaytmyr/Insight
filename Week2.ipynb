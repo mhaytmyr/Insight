{
 "metadata": {
  "kernelspec": {
   "display_name": "Python 2",
   "language": "python",
   "name": "python2"
  },
  "language_info": {
   "codemirror_mode": {
    "name": "ipython",
    "version": 2
   },
   "file_extension": ".py",
   "mimetype": "text/x-python",
   "name": "python",
   "nbconvert_exporter": "python",
   "pygments_lexer": "ipython2",
   "version": "2.7.12"
  },
  "name": "",
  "signature": "sha256:865cd4976443684ea3c9b8d917e0accc0d04f08a19b753f1efc65660dc707a87"
 },
 "nbformat": 3,
 "nbformat_minor": 0,
 "worksheets": [
  {
   "cells": [
    {
     "cell_type": "markdown",
     "metadata": {},
     "source": [
      "# Week 2 -- Cleaning Data\n",
      "\n",
      "Three files that I recieved from CrowdMed. \n",
      "\n",
      "***mds.json*** Collection of users mds or patients\n",
      "\n",
      "***medcases.json*** Collection of cases, with description\n",
      "\n",
      "***surveyanswers.json*** Collection surveys for medcases"
     ]
    },
    {
     "cell_type": "code",
     "collapsed": false,
     "input": [
      "##Import JSON\n",
      "import json\n",
      "import pandas as pd\n",
      "mds = pd.read_json('/home/maksat/Desktop/Insight/mds.json')\n",
      "medcases = pd.read_json('/home/maksat/Desktop/Insight/medcases.json')\n",
      "survey = pd.read_json('/home/maksat/Desktop/Insight/surveyanswers.json')\n",
      "\n",
      "#Investigate each column.\n",
      "print(mds.shape)\n",
      "print(medcases.shape)\n",
      "print(survey.shape)\n",
      "#for item in medcases.columns:\n",
      "#    print(item)"
     ],
     "language": "python",
     "metadata": {},
     "outputs": [
      {
       "output_type": "stream",
       "stream": "stdout",
       "text": [
        "(37809, 111)\n",
        "(7888, 201)\n",
        "(928, 7)\n"
       ]
      }
     ],
     "prompt_number": 17
    },
    {
     "cell_type": "code",
     "collapsed": false,
     "input": [
      "#mergeMdAndCase = pd.merge(mds,medcases,on='_id')\n",
      "#mdsId = {item:0 for item in mds._id}\n",
      "#print(len(mdsId))\n",
      "#caseId = {item:0 for item in medcases.user}\n",
      "#print(len(caseId))\n",
      "#print(sum(1 for case in caseId if case in mdsId))\n",
      "#for item in medcases.columns:\n",
      "#    print(item)\n",
      "#medcases.id"
     ],
     "language": "python",
     "metadata": {},
     "outputs": [
      {
       "metadata": {},
       "output_type": "pyout",
       "prompt_number": 213,
       "text": [
        "0        3007\n",
        "1        1172\n",
        "2        6232\n",
        "3        1479\n",
        "4        4402\n",
        "5        8780\n",
        "6        8367\n",
        "7        1663\n",
        "8        5686\n",
        "9        2416\n",
        "10       7050\n",
        "11       1520\n",
        "12       3727\n",
        "13       4264\n",
        "14       2899\n",
        "15       4309\n",
        "16       8178\n",
        "17       1813\n",
        "18       8531\n",
        "19       5421\n",
        "20       3913\n",
        "21       9438\n",
        "22       4689\n",
        "23       6292\n",
        "24       8960\n",
        "25       6272\n",
        "26       6413\n",
        "27       9508\n",
        "28       4631\n",
        "29       4272\n",
        "        ...  \n",
        "7858    53532\n",
        "7859     4404\n",
        "7860     6259\n",
        "7861     2070\n",
        "7862     6430\n",
        "7863     1484\n",
        "7864     6866\n",
        "7865     4093\n",
        "7866     9553\n",
        "7867     4056\n",
        "7868     1535\n",
        "7869     7908\n",
        "7870     5432\n",
        "7871    33929\n",
        "7872     2647\n",
        "7873    51871\n",
        "7874     4100\n",
        "7875    45702\n",
        "7876     4144\n",
        "7877    10136\n",
        "7878     1290\n",
        "7879     6834\n",
        "7880    43407\n",
        "7881     7666\n",
        "7882     2351\n",
        "7883     6395\n",
        "7884     3485\n",
        "7885     9228\n",
        "7886     4796\n",
        "7887     7521\n",
        "Name: id, dtype: float64"
       ]
      }
     ],
     "prompt_number": 213
    },
    {
     "cell_type": "code",
     "collapsed": false,
     "input": [
      "#preprocess surveys\n",
      "%matplotlib inline\n",
      "print(\"Survey:{}\".format(survey.shape))\n",
      "#match = (survey['_id'] == survey['medcase'])\n",
      "#print(survey[~match][['_id','medcase']])\n",
      "\n",
      "#survey['_id'] = survey.medcase\n",
      "def getRating(row):\n",
      "    for item in row:\n",
      "        if item['key']=='rating':\n",
      "            return int(item['value'])\n",
      "def getInsight(row):\n",
      "    for item in row:\n",
      "        if item['key']=='insights':\n",
      "            return item['value']\n",
      "def getShare(row):\n",
      "    for item in row:\n",
      "        if item['key']=='share':\n",
      "            return item['value']\n",
      "        \n",
      "survey['rating'] = survey.questions.apply(getRating)\n",
      "survey['insight'] = survey.questions.apply(getInsight)\n",
      "survey['share'] = survey.questions.apply(getShare)\n",
      "\n",
      "\n",
      "import re\n",
      "#year case was creatred\n",
      "medcases['year'] = medcases['created'].apply(lambda x: re.findall(r'([0-9]+?)-',str(x))[0])\n",
      "\n",
      "#surveyCase = {item:0 for item in survey.medcase}\n",
      "#surveyId = {item:0 for item in survey._id}\n",
      "#print(sum(1 for item in medcases._id if item in surveyCase))\n",
      "\n",
      "medCaseCols = ['_id','user','activityPercentile','medications','medicationCount','lifestyle','caseDuration',\n",
      "               'familyHistory','costs','country','diseaseYear','ethnicity','year','birthYear','reward','id',\n",
      "               #'traditionalExperience','patientDiagnoses','patientSolutions',\n",
      "               'primaryBodySystem','primaryComplaint','priorDoctors','productivityLost','reported','resolved',\n",
      "               'state','struggle','symptoms','tests','timeSpent','surveyAnswered','gender','healthPlan']\n",
      "surveyCols = ['_id','rating','insight','share']\n",
      "mdsCols = ['_id','balance','cashWon']\n",
      "\n",
      "#merging medcase and surveys\n",
      "surveyAndMedCase = pd.merge(survey[surveyCols],medcases[medCaseCols], on='_id')\n",
      "print('SurveyAndMedCase:{}'.format(surveyAndMedCase.shape))\n",
      "#surveyIds = {item:0 for item in survey['_id']}\n",
      "\n",
      "#now 'user' in surveyAndMedCase == '_id' in mds\n",
      "surveyAndMedCase['_id'] = surveyAndMedCase['user']\n",
      "surveyAndMedCase.pop('user')\n",
      "allMerged = pd.merge(mds[mdsCols], surveyAndMedCase, on='_id')\n",
      "print('AllMerged:{}'.format(allMerged.shape))\n",
      "\n",
      "#add features, age of patient when diseas started\n",
      "allMerged['age'] = allMerged['diseaseYear'].astype(int)-allMerged['birthYear'].astype(int)\n",
      "#how long patient waiting before using crowdmed\n",
      "allMerged['waitYear'] = allMerged['year'].astype(int)-allMerged['diseaseYear'].astype(int)\n"
     ],
     "language": "python",
     "metadata": {},
     "outputs": [
      {
       "output_type": "stream",
       "stream": "stdout",
       "text": [
        "Survey:(928, 10)\n",
        "SurveyAndMedCase:(921, 33)"
       ]
      },
      {
       "output_type": "stream",
       "stream": "stdout",
       "text": [
        "\n",
        "AllMerged:(919, 34)\n"
       ]
      }
     ],
     "prompt_number": 217
    },
    {
     "cell_type": "code",
     "collapsed": false,
     "input": [
      "#Look at rating distribution\n",
      "import matplotlib.pyplot as plt\n",
      "survey[['rating','insight','share']]\n",
      "survey['rating'].value_counts().plot(kind='bar')\n",
      "plt.xlabel('Rating')\n",
      "plt.ylabel('Counts')\n",
      "plt.grid(True)\n",
      "plt.show()"
     ],
     "language": "python",
     "metadata": {},
     "outputs": [
      {
       "metadata": {},
       "output_type": "display_data",
       "png": "[encoded data removed]",
       "text": [
        "<matplotlib.figure.Figure at 0x7f327a3c66d8>"
       ]
      }
     ],
     "prompt_number": 67
    },
    {
     "cell_type": "code",
     "collapsed": false,
     "input": [
      "#Look at insight distribution\n",
      "survey['insight'].value_counts().plot(kind='bar')\n",
      "plt.xlabel('Provide Insight?')\n",
      "plt.ylabel('Counts')\n",
      "plt.show()"
     ],
     "language": "python",
     "metadata": {},
     "outputs": [
      {
       "metadata": {},
       "output_type": "display_data",
       "png": "[encoded data removed]",
       "text": [
        "<matplotlib.figure.Figure at 0x7f32b0fe65c0>"
       ]
      }
     ],
     "prompt_number": 68
    },
    {
     "cell_type": "code",
     "collapsed": false,
     "input": [
      "#Look at share distribution\n",
      "survey['share'].value_counts().plot(kind='bar')\n",
      "plt.xlabel('Will you recommend?')\n",
      "plt.ylabel('Counts')\n",
      "plt.show()"
     ],
     "language": "python",
     "metadata": {},
     "outputs": [],
     "prompt_number": 11
    },
    {
     "cell_type": "code",
     "collapsed": false,
     "input": [
      "#There is also caseChallenge, each user solved. This might be helpfull \n",
      "features = ['caseDuration','reward','age','waitYear','activityPercentile',\n",
      "            'medicationCount','costs','gender','rating',\n",
      "            #'_id','share','insight','timeSpent'\n",
      "            ]\n",
      "#here subset = ['insight','rating','share'] if how='all', everything has to be NaN\n",
      "#subset=filter(lambda x: len(x) > 3, df2.columns)\n",
      "data = allMerged[features].dropna(subset=['rating','caseDuration','activityPercentile','costs'],how='any')\n",
      "X,y = data[features[:-1]], data[features[-1]]\n",
      "data.ix[:,features].hist(figsize=(15,10))"
     ],
     "language": "python",
     "metadata": {},
     "outputs": [
      {
       "metadata": {},
       "output_type": "pyout",
       "prompt_number": 216,
       "text": [
        "array([[<matplotlib.axes._subplots.AxesSubplot object at 0x7f32945f8f28>,\n",
        "        <matplotlib.axes._subplots.AxesSubplot object at 0x7f32948642e8>,\n",
        "        <matplotlib.axes._subplots.AxesSubplot object at 0x7f32948cae10>],\n",
        "       [<matplotlib.axes._subplots.AxesSubplot object at 0x7f3294966128>,\n",
        "        <matplotlib.axes._subplots.AxesSubplot object at 0x7f3294a789e8>,\n",
        "        <matplotlib.axes._subplots.AxesSubplot object at 0x7f3294bb1eb8>],\n",
        "       [<matplotlib.axes._subplots.AxesSubplot object at 0x7f3294cb1358>,\n",
        "        <matplotlib.axes._subplots.AxesSubplot object at 0x7f3294bdf4e0>,\n",
        "        <matplotlib.axes._subplots.AxesSubplot object at 0x7f3294db6208>]], dtype=object)"
       ]
      },
      {
       "metadata": {},
       "output_type": "display_data",
       "png": "[encoded data removed]",
       "text": [
        "<matplotlib.figure.Figure at 0x7f32947870b8>"
       ]
      }
     ],
     "prompt_number": 216
    },
    {
     "cell_type": "code",
     "collapsed": false,
     "input": [
      "#start trining\n",
      "from sklearn.cross_validation import train_test_split\n",
      "from sklearn.naive_bayes import MultinomialNB\n",
      "from sklearn.linear_model import LogisticRegression,LinearRegression, SGDClassifier\n",
      "from pandas.tools.plotting import andrews_curves\n",
      "from sklearn import preprocessing\n",
      "from sklearn.preprocessing import OneHotEncoder\n",
      "from sklearn import metrics\n",
      "\n",
      "\n",
      "#enc = OneHotEncoder(categorical_features=[True,False,False,False,True],sparse=False)\n",
      "X['gender'],b = pd.factorize(X['gender'])\n",
      "#X['resolved'],_ = pd.factorize(X['resolved'])\n",
      "\n",
      "minMaxScaler = preprocessing.MinMaxScaler()\n",
      "robustScaler = preprocessing.RobustScaler()\n",
      "X = minMaxScaler.fit_transform(X)\n",
      "#X = robustScaler.fit_transform(X)\n",
      "#X['age'] = X['age'].reshape(-1,1)\n",
      "#X['costs'] = X['costs'].reshape(-1,1)\n",
      "\n",
      "#print(X)\n",
      "#clf = MultinomialNB()\n",
      "clf = LogisticRegression()\n",
      "#clf = SGDClassifier()\n",
      "import numpy as np\n",
      "\n",
      "#split data\n",
      "X_train, X_test, y_train, y_test = train_test_split(X,y, random_state=2, test_size=0.2)\n",
      "print(len(X))\n",
      "#train data\n",
      "clf.fit(X_train,y_train)\n",
      "y_pred = clf.predict(X_test)\n",
      "\n",
      "\n",
      "#call accuracy score\n",
      "#print(y_pred)\n",
      "print(\"Random:{}\".format(sum(y==5)/float(len(y))))\n",
      "print(\"Prediction Score:{}\".format(metrics.accuracy_score(y_test,y_pred)))\n",
      "print(\"Training score:{}\".format(metrics.accuracy_score(y_train,clf.predict(X_train))))\n",
      "\n"
     ],
     "language": "python",
     "metadata": {},
     "outputs": [
      {
       "output_type": "stream",
       "stream": "stdout",
       "text": [
        "721\n",
        "Random:0.27045769764216365\n",
        "Prediction Score:0.27586206896551724\n",
        "Training score:0.2934027777777778\n"
       ]
      }
     ],
     "prompt_number": 205
    },
    {
     "cell_type": "code",
     "collapsed": false,
     "input": [
      "X_train"
     ],
     "language": "python",
     "metadata": {},
     "outputs": [
      {
       "metadata": {},
       "output_type": "pyout",
       "prompt_number": 197,
       "text": [
        "array([[ 0.5       ,  0.42553191,  0.51724138, ..., -0.25      ,\n",
        "         1.95652174,  0.        ],\n",
        "       [ 0.05      , -0.85106383, -0.20689655, ..., -0.75      ,\n",
        "         1.52173913,  1.        ],\n",
        "       [ 0.01666667, -0.42553191,  0.72413793, ..., -0.25      ,\n",
        "        -0.15217391,  1.        ],\n",
        "       ..., \n",
        "       [ 0.23333333,  0.42553191,  0.89655172, ...,  0.25      ,\n",
        "         0.        ,  1.        ],\n",
        "       [ 1.36666667, -0.85106383,  0.37931034, ...,  0.        ,\n",
        "         0.        ,  0.        ],\n",
        "       [-0.5       , -0.85106383, -0.20689655, ..., -0.25      ,\n",
        "         0.10869565,  0.        ]])"
       ]
      }
     ],
     "prompt_number": 197
    },
    {
     "cell_type": "code",
     "collapsed": false,
     "input": [
      "y_pred"
     ],
     "language": "python",
     "metadata": {},
     "outputs": [
      {
       "metadata": {},
       "output_type": "pyout",
       "prompt_number": 184,
       "text": [
        "array([ 5.,  5.,  5.,  5.,  5.,  3.,  5.,  3.,  5.,  4.,  5.,  4.,  4.,\n",
        "        5.,  4.,  4.,  5.,  3.,  3.,  3.,  5.,  5.,  3.,  5.,  3.,  5.,\n",
        "        3.,  3.,  5.,  3.,  4.,  3.,  5.,  3.,  3.,  5.,  3.,  5.,  5.,\n",
        "        5.,  5.,  5.,  5.,  3.,  5.,  5.,  5.,  5.,  3.,  4.,  3.,  4.,\n",
        "        5.,  3.,  3.,  3.,  5.,  5.,  3.,  5.,  4.,  5.,  4.,  5.,  5.,\n",
        "        5.,  5.,  5.,  5.,  5.,  5.,  5.,  3.,  4.,  3.,  5.,  5.,  3.,\n",
        "        5.,  5.,  3.,  5.,  5.,  5.,  5.,  3.,  5.,  5.,  5.,  5.,  4.,\n",
        "        3.,  5.,  4.,  5.,  5.,  4.,  5.,  5.,  5.,  3.,  3.,  5.,  5.,\n",
        "        5.,  3.,  5.,  3.,  3.,  4.,  5.,  3.,  5.,  4.,  5.,  4.,  3.,\n",
        "        5.,  5.,  3.,  5.,  5.,  5.,  4.,  5.,  5.,  5.,  3.,  5.,  5.,\n",
        "        5.,  3.,  3.,  5.,  3.,  5.,  3.,  5.,  3.,  3.,  5.,  3.,  3.,\n",
        "        5.,  5.])"
       ]
      }
     ],
     "prompt_number": 184
    },
    {
     "cell_type": "code",
     "collapsed": false,
     "input": [],
     "language": "python",
     "metadata": {},
     "outputs": []
    }
   ],
   "metadata": {}
  }
 ]
}