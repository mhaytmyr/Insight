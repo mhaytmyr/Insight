{
 "metadata": {
  "kernelspec": {
   "display_name": "Python 2",
   "language": "python",
   "name": "python2"
  },
  "language_info": {
   "codemirror_mode": {
    "name": "ipython",
    "version": 2
   },
   "file_extension": ".py",
   "mimetype": "text/x-python",
   "name": "python",
   "nbconvert_exporter": "python",
   "pygments_lexer": "ipython2",
   "version": "2.7.12"
  },
  "name": "",
  "signature": "sha256:4fd1aee88f97d62222467fd0a00f7613b618b956ef7cc12daa21ba373f6a8743"
 },
 "nbformat": 3,
 "nbformat_minor": 0,
 "worksheets": [
  {
   "cells": [
    {
     "cell_type": "markdown",
     "metadata": {},
     "source": [
      "# Week 2 -- Cleaning Data\n",
      "\n",
      "Three files that I recieved from CrowdMed. \n",
      "\n",
      "***mds.json*** Collection of users mds or patients\n",
      "\n",
      "***medcases.json*** Collection of cases, with description\n",
      "\n",
      "***surveyanswers.json*** Collection surveys for medcases"
     ]
    },
    {
     "cell_type": "code",
     "collapsed": false,
     "input": [
      "##Import JSON\n",
      "import json\n",
      "import pandas as pd\n",
      "mds = pd.read_json('/home/maksat/Desktop/Insight/mds.json')\n",
      "medcases = pd.read_json('/home/maksat/Desktop/Insight/medcases.json')\n",
      "survey = pd.read_json('/home/maksat/Desktop/Insight/surveyanswers.json')\n",
      "\n",
      "#Investigate each column.\n",
      "print(mds.shape)\n",
      "print(medcases.shape)\n",
      "print(survey.shape)\n",
      "#for item in medcases.columns:\n",
      "#    print(item)"
     ],
     "language": "python",
     "metadata": {},
     "outputs": [
      {
       "output_type": "stream",
       "stream": "stdout",
       "text": [
        "(37809, 111)\n",
        "(7888, 201)\n",
        "(928, 7)\n"
       ]
      }
     ],
     "prompt_number": 110
    },
    {
     "cell_type": "code",
     "collapsed": false,
     "input": [
      "#mergeMdAndCase = pd.merge(mds,medcases,on='_id')\n",
      "#mdsId = {item:0 for item in mds._id}\n",
      "#print(len(mdsId))\n",
      "#caseId = {item:0 for item in medcases.user}\n",
      "#print(len(caseId))\n",
      "#print(sum(1 for case in caseId if case in mdsId))\n",
      "for item in mds.columns:\n",
      "    print(item)"
     ],
     "language": "python",
     "metadata": {},
     "outputs": [
      {
       "output_type": "stream",
       "stream": "stdout",
       "text": [
        "__v\n",
        "_id\n",
        "adSource\n",
        "admin\n",
        "ambassadorSchool\n",
        "approvedModerator\n",
        "autoTranslation\n",
        "balance\n",
        "bio\n",
        "bodySystemExpertise\n",
        "bookmarkedCases\n",
        "caseChallenge\n",
        "caseSelection\n",
        "casesActive\n",
        "casesBet\n",
        "cashBalance\n",
        "cashCode\n",
        "cashRecord\n",
        "cashWon\n",
        "chatReadTimes\n",
        "confirmed\n",
        "contests\n",
        "created\n",
        "curathon\n",
        "currentCase\n",
        "deactivated\n",
        "defaultCaseSelectionSettings\n",
        "defaultCaseSelectionSort\n",
        "delightedComplete\n",
        "detectiveRank\n",
        "detectiveRating\n",
        "detectiveRatingTime\n",
        "discussionReadTimes\n",
        "displayPreferences\n",
        "donatablePoints\n",
        "drChronoInvite\n",
        "excludeFromHubspot\n",
        "excludeFromZipPopulation\n",
        "exposure\n",
        "extraBets\n",
        "fromTrial\n",
        "hitQuestionnaire\n",
        "hubspotLastUpdate\n",
        "hubspotUpdated\n",
        "id\n",
        "inactiveEmailsSent\n",
        "lastActivity\n",
        "lastBet\n",
        "lastCasesActiveUpdate\n",
        "lastDelightedRequest\n",
        "lastInactiveEmail\n",
        "lastLogin\n",
        "lastMetricUpdate\n",
        "lastPatientDraftUpdate\n",
        "loyaltyCounter\n",
        "lpr\n",
        "manualDR\n",
        "manualDR6\n",
        "marketingData\n",
        "mdReferralSent\n",
        "mdSurveyCompleted\n",
        "medcases\n",
        "merc\n",
        "moderatorVolunteer\n",
        "mostRecentPatientCase\n",
        "newMd\n",
        "newPatientSurveyOffered\n",
        "noMdSurvey\n",
        "noModeratorRequests\n",
        "notificationsClosed\n",
        "otherExposure\n",
        "paid\n",
        "participatedInCase\n",
        "partnerAdmin\n",
        "partnerRegistration\n",
        "patientCases\n",
        "patientConversion\n",
        "paymentCase\n",
        "paymentReward\n",
        "pendingDraftSurvey\n",
        "pendingPackageUpgrade\n",
        "pendingPromoCode\n",
        "percentile\n",
        "physician\n",
        "pointRecord\n",
        "pointsWon\n",
        "rankings\n",
        "referralCode\n",
        "referralCodeUsed\n",
        "referrals\n",
        "referrer\n",
        "refusedModerator\n",
        "shireRegistration\n",
        "skipMdAgreement\n",
        "skipPatientAgreement\n",
        "solveRankings\n",
        "solves\n",
        "speaks\n",
        "specialty\n",
        "trial\n",
        "trialBonusesGranted\n",
        "tutorialsCompleted\n",
        "unpaidCaseSubmission\n",
        "uppercaseUsername\n",
        "username\n",
        "verificationRequestRejected\n",
        "verificationSubmitted\n",
        "verifiedCredentials\n",
        "vipSignup\n",
        "winningSuggestions\n",
        "wtf\n"
       ]
      }
     ],
     "prompt_number": 132
    },
    {
     "cell_type": "code",
     "collapsed": false,
     "input": [
      "#preprocess surveys\n",
      "print(\"Survey:{}\".format(survey.shape))\n",
      "survey['_id'] = survey.medcase\n",
      "def getRating(row):\n",
      "    for item in row:\n",
      "        if item['key']=='rating':\n",
      "            return item['value']\n",
      "def getInsight(row):\n",
      "    for item in row:\n",
      "        if item['key']=='insights':\n",
      "            return item['value']\n",
      "def getShare(row):\n",
      "    for item in row:\n",
      "        if item['key']=='share':\n",
      "            return item['value']\n",
      "        \n",
      "survey['rating'] = survey.questions.apply(getRating)\n",
      "survey['insight'] = survey.questions.apply(getInsight)\n",
      "survey['share'] = survey.questions.apply(getShare)\n",
      "\n",
      "#preprocess medcases\n",
      "import re\n",
      "medcases['year'] = medcases['created'].apply(lambda x: re.findall(r'([0-9]+?)-',str(x))[0])\n",
      "\n",
      "#print(survey[['questions','rating','insight','share']])\n",
      "#surveyCase = {item:0 for item in survey.medcase}\n",
      "#surveyId = {item:0 for item in survey._id}\n",
      "#print(sum(1 for item in medcases._id if item in surveyCase))\n",
      "medCaseCols = ['_id','user','activityPercentile','birthYear','medications','medicationCount','lifestyle','familyHistory','costs','country','year','diseaseYear','ethnicity',\n",
      "               #'traditionalExperience','patientDiagnoses','patientSolutions',\n",
      "               'primaryBodySystem','primaryComplaint','priorDoctors','productivityLost','reported','resolved',\n",
      "               'state','struggle','symptoms','tests','timeSpent','surveyAnswered','gender','healthPlan']\n",
      "surveyCols = ['_id','rating','insight','share']\n",
      "mdsCols = ['_id','balance','percentile','cashWon']\n",
      "\n",
      "#merging medcase and surveys\n",
      "surveyAndMedCase = pd.merge(survey[surveyCols],medcases[medCaseCols], on='_id')\n",
      "print('SurveyAndMedCase:{}'.format(surveyAndMedCase.shape))\n",
      "#now 'user' in surveyAndMedCase == '_id' in mds\n",
      "surveyAndMedCase['_id'] = surveyAndMedCase['user']\n",
      "surveyAndMedCase.pop('user')\n",
      "allMerged = pd.merge(mds[mdsCols], surveyAndMedCase, on='_id')\n",
      "print('AllMerged:{}'.format(allMerged.shape))\n",
      "#surveyAndMedCase\n"
     ],
     "language": "python",
     "metadata": {},
     "outputs": [
      {
       "output_type": "stream",
       "stream": "stdout",
       "text": [
        "Survey:(928, 10)\n",
        "SurveyAndMedCase:(921, 30)"
       ]
      },
      {
       "output_type": "stream",
       "stream": "stdout",
       "text": [
        "\n",
        "AllMerged:(919, 32)\n"
       ]
      }
     ],
     "prompt_number": 140
    },
    {
     "cell_type": "code",
     "collapsed": false,
     "input": [
      "\n",
      "#I don't know what is this, probably doesn't provide information\n",
      "data[data.ambassadorSchool.notnull()].ambassadorSchool\n"
     ],
     "language": "python",
     "metadata": {},
     "outputs": []
    },
    {
     "cell_type": "code",
     "collapsed": false,
     "input": [
      "#Moderators, are here\n",
      "data[data.approvedModerator.notnull()].approvedModerator[:10]"
     ],
     "language": "python",
     "metadata": {},
     "outputs": [
      {
       "metadata": {},
       "output_type": "pyout",
       "prompt_number": 18,
       "text": [
        "984      1\n",
        "1809     0\n",
        "10040    1\n",
        "11498    1\n",
        "12203    1\n",
        "15610    1\n",
        "15626    1\n",
        "15864    0\n",
        "15985    1\n",
        "16918    1\n",
        "Name: approvedModerator, dtype: float64"
       ]
      }
     ],
     "prompt_number": 18
    },
    {
     "cell_type": "code",
     "collapsed": false,
     "input": [
      "#There is also caseChallenge, each user solved. This might be helpfull \n",
      "#to distinguish MD from patient. \n",
      "data[data.caseChallenge.notnull()].caseChallenge[:10]"
     ],
     "language": "python",
     "metadata": {},
     "outputs": [
      {
       "metadata": {},
       "output_type": "pyout",
       "prompt_number": 14,
       "text": [
        "0         {'points': 39}\n",
        "20       {'points': 349}\n",
        "50      {'points': 2358}\n",
        "96     {'points': 11735}\n",
        "111      {'points': 906}\n",
        "130     {'points': 2352}\n",
        "169     {'points': 4597}\n",
        "236      {'points': 365}\n",
        "249     {'points': 3765}\n",
        "253    {'points': 55699}\n",
        "Name: caseChallenge, dtype: object"
       ]
      }
     ],
     "prompt_number": 14
    }
   ],
   "metadata": {}
  }
 ]
}