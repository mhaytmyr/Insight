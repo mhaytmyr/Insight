{
 "metadata": {
  "kernelspec": {
   "display_name": "Python 2",
   "language": "python",
   "name": "python2"
  },
  "language_info": {
   "codemirror_mode": {
    "name": "ipython",
    "version": 2
   },
   "file_extension": ".py",
   "mimetype": "text/x-python",
   "name": "python",
   "nbconvert_exporter": "python",
   "pygments_lexer": "ipython2",
   "version": "2.7.12"
  },
  "name": "",
  "signature": "sha256:92621d4b9742a25c05d50e4ea1252f5c142c495c2092bb3700f8646b65a12887"
 },
 "nbformat": 3,
 "nbformat_minor": 0,
 "worksheets": [
  {
   "cells": [
    {
     "cell_type": "markdown",
     "metadata": {},
     "source": [
      "# Week 2 -- Cleaning Data\n",
      "\n",
      "Three files that I recieved from CrowdMed. \n",
      "\n",
      "***mds.json*** Collection of users mds or patients\n",
      "\n",
      "***medcases.json*** Collection of cases, with description\n",
      "\n",
      "***surveyanswers.json*** Collection surveys for medcases"
     ]
    },
    {
     "cell_type": "code",
     "collapsed": false,
     "input": [
      "##Import JSON\n",
      "import json\n",
      "import pandas as pd\n",
      "mds = pd.read_json('/home/maksat/Desktop/Insight/mds.json')\n",
      "medcases = pd.read_json('/home/maksat/Desktop/Insight/medcases.json')\n",
      "survey = pd.read_json('/home/maksat/Desktop/Insight/surveyanswers.json')\n",
      "\n",
      "#Investigate each column.\n",
      "print(mds.shape)\n",
      "print(medcases.shape)\n",
      "print(survey.shape)\n",
      "#for item in medcases.columns:\n",
      "#    print(item)"
     ],
     "language": "python",
     "metadata": {},
     "outputs": [
      {
       "output_type": "stream",
       "stream": "stdout",
       "text": [
        "(37809, 111)\n",
        "(7888, 201)\n",
        "(928, 7)\n"
       ]
      }
     ],
     "prompt_number": 692
    },
    {
     "cell_type": "code",
     "collapsed": false,
     "input": [
      "#mergeMdAndCase = pd.merge(mds,medcases,on='_id')\n",
      "#mdsId = {item:0 for item in mds._id}\n",
      "#print(len(mdsId))\n",
      "#caseId = {item:0 for item in medcases.user}\n",
      "#print(len(caseId))\n",
      "#print(sum(1 for case in caseId if case in mdsId))\n",
      "#for item in medcases.columns:\n",
      "#    print(item)"
     ],
     "language": "python",
     "metadata": {},
     "outputs": [],
     "prompt_number": 155
    },
    {
     "cell_type": "code",
     "collapsed": false,
     "input": [
      "#preprocess surveys\n",
      "%matplotlib inline\n",
      "print(\"Survey:{}\".format(survey.shape))\n",
      "#print(survey[~match][['_id','medcase']])\n",
      "survey['_id'] = survey['medcase']\n",
      "\n",
      "def getRating(row):\n",
      "    for item in row:\n",
      "        if item['key']=='rating':\n",
      "            return int(item['value'])\n",
      "def getInsight(row):\n",
      "    for item in row:\n",
      "        if item['key']=='insights':\n",
      "            return item['value']\n",
      "def getShare(row):\n",
      "    for item in row:\n",
      "        if item['key']=='share':\n",
      "            return item['value']\n",
      "        \n",
      "survey['rating'] = survey.questions.apply(getRating)\n",
      "survey['insight'] = survey.questions.apply(getInsight)\n",
      "survey['share'] = survey.questions.apply(getShare)\n",
      "\n",
      "import re\n",
      "#year case was creatred\n",
      "medcases['year'] = medcases['created'].apply(lambda x: re.findall(r'([0-9]+?)-',str(x))[0])\n",
      "\n",
      "#surveyCase = {item:0 for item in survey.medcase}\n",
      "#surveyId = {item:0 for item in survey._id}\n",
      "#print(sum(1 for item in medcases._id if item in surveyCase))\n",
      "\n",
      "medCaseCols = ['_id','user','activityPercentile','medications','medicationCount','lifestyle','caseDuration','surveyAnswered',\n",
      "               'familyHistory','costs','country','diseaseYear','ethnicity','year','birthYear','reward','id','medicalHistory',\n",
      "               'primaryBodySystem','primaryComplaint','priorDoctors','productivityLost','created','resolved',\n",
      "               'state','struggle','symptoms','timeSpent','surveyAnswered','gender','healthPlan']\n",
      "surveyCols = ['_id','rating','insight','share']\n",
      "mdsCols = ['_id','balance','cashWon']\n",
      "\n",
      "#merging medcase and surveys\n",
      "surveyAndMedCase = pd.merge(survey[surveyCols],medcases[medCaseCols], on='_id')\n",
      "print('SurveyAndMedCase:{}'.format(surveyAndMedCase.shape))\n",
      "#surveyIds = {item:0 for item in survey['_id']}\n",
      "\n",
      "#now 'user' in surveyAndMedCase == '_id' in mds\n",
      "surveyAndMedCase['_id'] = surveyAndMedCase['user']\n",
      "surveyAndMedCase.pop('user')\n",
      "allMerged = pd.merge(mds[mdsCols], surveyAndMedCase, on='_id')\n",
      "print('AllMerged:{}'.format(allMerged.shape))\n",
      "\n",
      "#add features, age of patient when diseas started\n",
      "allMerged['age'] = allMerged['year'].astype(int)-allMerged['birthYear'].astype(int)\n",
      "#how long patient waiting before using crowdmed\n",
      "allMerged['waitYear'] = allMerged['year'].astype(int)-allMerged['diseaseYear'].astype(int)\n",
      "#how much money is saved\n",
      "allMerged = allMerged.dropna(subset=['costs'],how='any')\n",
      "allMerged['moneySaved'] = allMerged['costs'].astype(int)-allMerged['reward'].astype(int)/100\n",
      "allMerged['reward'] = allMerged['reward'].apply(lambda x: int(x)/100)\n",
      "allMerged['costs'] = allMerged['costs'].apply(lambda x: int(x)/1000)\n",
      "\n",
      "#allMerged['medications'].value_counts().plot(kind='bar')\n",
      "#allMerged[allMerged['priorDoctors']<50]['priorDoctors'].describe()\n",
      "#allMerged.medications[5]\n",
      "#print(medcases[medcases.ethnicity.isnull()])\n",
      "\n",
      "import re\n",
      "def getEthnicity(item):\n",
      "    if str(item)=='NaN':\n",
      "        return 'NaN'\n",
      "    elif re.findall(r'(^[Cc]auca)[Aa]sian|[Cc]inese',item):\n",
      "        return 'Asian'\n",
      "    elif re.findall(r'[Hh]ispanic|[Ll]atino',item):\n",
      "        return 'Hispanic'\n",
      "    elif re.findall(r'[Cc]aucasi[ao]n|[Ww]hite',item): \n",
      "        return 'Caucasian'\n",
      "    elif re.findall(r'[Aa]frica|[Bb]lack',item):\n",
      "        return 'African-American'\n",
      "    elif re.findall(r'[Jj]ewish|[Aa]shkenazi',item):\n",
      "        return 'Jewish'\n",
      "    else:\n",
      "        return 'European'\n",
      "\n",
      "allMerged.ethnicity = allMerged.ethnicity.apply(lambda x: getEthnicity(x))\n",
      "medcases.ethnicity = medcases[medcases.ethnicity.notnull()].ethnicity.apply(lambda x: getEthnicity(x))\n",
      "#allMerged.ethnicity.value_counts()\n",
      "#for item in allMerged.ethnicity:\n",
      "#            print(\"{} ----> {}\".format(item,getEthnicity(item)))\n",
      "#allMerged.ethnicity.value_counts()\n",
      "\n",
      "#allMerged[allMerged.age<3][['age','waitYear','year','created','diseaseYear','birthYear']]\n",
      "#allMerged[allMerged.caseDuration<100].rating.hist()"
     ],
     "language": "python",
     "metadata": {},
     "outputs": [
      {
       "output_type": "stream",
       "stream": "stdout",
       "text": [
        "Survey:(928, 7)\n",
        "SurveyAndMedCase:(921, 34)"
       ]
      },
      {
       "output_type": "stream",
       "stream": "stdout",
       "text": [
        "\n",
        "AllMerged:(919, 35)\n"
       ]
      }
     ],
     "prompt_number": 693
    },
    {
     "cell_type": "code",
     "collapsed": false,
     "input": [
      "#controlSample = medcases[medcases['_id'] ! allMerged['_id']][medCaseCols]\n",
      "#mergedIds = {item:0 for item in survey['_id']}\n",
      "#maskIds = [item for item in medcases['_id'] if item not in mergedIds]\n",
      "\n",
      "controlSample = medcases[(medcases.resolved==False) | (medcases.surveyAnswered==False)]\n",
      "#originalIdx = medcases.index\n",
      "#medcases.index = medcases['_id']\n",
      "#controlSample = medcases.ix[maskIds][medCaseCols]\n",
      "\n",
      "#add features, age of patient when diseas started\n",
      "controlSample = controlSample.dropna(subset=['year','birthYear','costs','reward'])\n",
      "controlSample['age'] = controlSample['year'].astype(int)-controlSample['birthYear'].astype(int)\n",
      "#how long patient waiting before using crowdmed\n",
      "controlSample['waitYear'] = controlSample['year'].astype(int)-controlSample['diseaseYear'].astype(int)\n",
      "#how much money is saved\n",
      "controlSample['reward'] = controlSample['reward'].apply(lambda x: int(x)/100)\n",
      "controlSample['costs'] = controlSample['costs'].apply(lambda x: int(x)/1000)\n",
      "\n",
      "controlSample['insight'] = 'No'\n",
      "#resolvedIds = controlSample[controlSample.resolved==True]['_id']\n",
      "#answeredIds = controlSample[controlSample.surveyAnswered==True]['_id']\n",
      "#print(sum(1 for item in answeredIds if item in mergedIds))\n",
      "#len(medcases[(medcases['resolved']==True) & (medcases['surveyAnswered']==True)])\n",
      "#controlSample.shape"
     ],
     "language": "python",
     "metadata": {},
     "outputs": [],
     "prompt_number": 711
    },
    {
     "cell_type": "code",
     "collapsed": false,
     "input": [
      "#prior doctors\n",
      "allMerged.ix[:,['priorDoctors','waitYear','caseDuration','reward']].hist(bins=100,range=[0,100],figsize=(12,8))"
     ],
     "language": "python",
     "metadata": {},
     "outputs": [
      {
       "metadata": {},
       "output_type": "pyout",
       "prompt_number": 658,
       "text": [
        "array([[<matplotlib.axes._subplots.AxesSubplot object at 0x7f1b561430f0>,\n",
        "        <matplotlib.axes._subplots.AxesSubplot object at 0x7f1b761e5518>],\n",
        "       [<matplotlib.axes._subplots.AxesSubplot object at 0x7f1b2b3e0748>,\n",
        "        <matplotlib.axes._subplots.AxesSubplot object at 0x7f1b4990a6d8>]], dtype=object)"
       ]
      },
      {
       "metadata": {},
       "output_type": "display_data",
       "png": "[encoded data removed]",
       "text": [
        "<matplotlib.figure.Figure at 0x7f1b56157668>"
       ]
      }
     ],
     "prompt_number": 658
    },
    {
     "cell_type": "code",
     "collapsed": false,
     "input": [
      "allMerged.ix[:,['costs']].hist(bins=100,range=[0,600],figsize=(12,8))"
     ],
     "language": "python",
     "metadata": {},
     "outputs": [
      {
       "metadata": {},
       "output_type": "pyout",
       "prompt_number": 499,
       "text": [
        "array([[<matplotlib.axes._subplots.AxesSubplot object at 0x7f1b71419cc0>]], dtype=object)"
       ]
      },
      {
       "metadata": {},
       "output_type": "display_data",
       "png": "[encoded data removed]",
       "text": [
        "<matplotlib.figure.Figure at 0x7f1b7143e0f0>"
       ]
      }
     ],
     "prompt_number": 499
    },
    {
     "cell_type": "code",
     "collapsed": false,
     "input": [
      "#Look at rating distribution\n",
      "import matplotlib.pyplot as plt\n",
      "survey[['rating','insight','share']]\n",
      "survey['rating'].value_counts().plot(kind='bar')\n",
      "plt.xlabel('Rating')\n",
      "plt.ylabel('Counts')\n",
      "plt.grid(True)"
     ],
     "language": "python",
     "metadata": {},
     "outputs": [
      {
       "metadata": {},
       "output_type": "display_data",
       "png": "[encoded data removed]",
       "text": [
        "<matplotlib.figure.Figure at 0x7f1b4eeb6320>"
       ]
      }
     ],
     "prompt_number": 629
    },
    {
     "cell_type": "code",
     "collapsed": false,
     "input": [
      "#Look at insight distribution\n",
      "survey['insight'].value_counts().plot(kind='bar')\n",
      "plt.xlabel('Provide Insight?')\n",
      "plt.ylabel('Counts')\n",
      "plt.show()"
     ],
     "language": "python",
     "metadata": {},
     "outputs": [
      {
       "metadata": {},
       "output_type": "display_data",
       "png": "[encoded data removed]",
       "text": [
        "<matplotlib.figure.Figure at 0x7f68c6e2aa20>"
       ]
      }
     ],
     "prompt_number": 6
    },
    {
     "cell_type": "code",
     "collapsed": false,
     "input": [
      "#Look at share distribution\n",
      "survey['share'].value_counts().plot(kind='bar')\n",
      "plt.xlabel('Will you recommend?')\n",
      "plt.ylabel('Counts')\n",
      "plt.show()"
     ],
     "language": "python",
     "metadata": {},
     "outputs": [
      {
       "metadata": {},
       "output_type": "display_data",
       "png": "[encoded data removed]",
       "text": [
        "<matplotlib.figure.Figure at 0x7f6892b31cc0>"
       ]
      }
     ],
     "prompt_number": 7
    },
    {
     "cell_type": "code",
     "collapsed": false,
     "input": [
      "#There is also caseChallenge, each user solved. This might be helpfull \n",
      "features = ['priorDoctors','age','waitYear','reward','ethnicity',\n",
      "            'medicationCount','costs','gender','insight'\n",
      "            #'_id','share','insight','timeSpent','activityPercentile',\n",
      "            ]\n",
      "#here subset = ['insight','rating','share'] if how='all', everything has to be NaN\n",
      "#subset=filter(lambda x: len(x) > 3, df2.columns)\n",
      "cleaned = allMerged[features].dropna(subset=['costs','insight'],how='any')\n",
      "controlData = controlSample[features].dropna(how='any')\n",
      "\n",
      "data = pd.concat([cleaned,controlData])\n",
      "#controlData['gender'],b = pd.factorize(controlData['gender'])\n",
      "X,y1 = data[features].drop(['insight'],axis=1), data['insight']\n",
      "#y2, b = pd.factorize(data['insight'])\n",
      "\n",
      "X['gender'],b = pd.factorize(X['gender'])\n",
      "X['ethnicity'],b = pd.factorize(X['ethnicity'])\n",
      "\n",
      "#data.ix[:,features].hist(figsize=(15,10))\n",
      "#len(X)"
     ],
     "language": "python",
     "metadata": {},
     "outputs": [
      {
       "metadata": {},
       "output_type": "pyout",
       "prompt_number": 728,
       "text": [
        "7128"
       ]
      }
     ],
     "prompt_number": 728
    },
    {
     "cell_type": "code",
     "collapsed": false,
     "input": [
      "fig = plt.figure()\n",
      "ax1 = fig.add_subplot(221)\n",
      "controlData.ix[:,'priorDoctors'].hist(bins=50, range=[0,50],figsize=(12,8))\n",
      "cleaned.ix[:,'priorDoctors'].hist(bins=50, range=[0,50])\n",
      "ax1.title.set_text('Prior Doctors')\n",
      "ax1.set_yscale(\"log\", nonposx='clip')\n",
      "\n",
      "ax2 = fig.add_subplot(222)\n",
      "controlData.ix[:,'age'].hist(bins=100, range=[0,100],figsize=(12,8))\n",
      "cleaned.ix[:,'age'].hist(bins=100, range=[0,100])\n",
      "ax2.title.set_text('Age')\n",
      "ax2.set_yscale(\"log\", nonposy='clip')\n",
      "\n",
      "ax3 = fig.add_subplot(223)\n",
      "controlData.ix[:,'waitYear'].hist(bins=60, range=[0,60],figsize=(12,8))\n",
      "cleaned.ix[:,'waitYear'].hist(bins=60, range=[0,60])\n",
      "ax3.title.set_text('Diseas Years')\n",
      "ax3.set_yscale(\"log\", nonposy='clip')\n",
      "\n",
      "ax4 = fig.add_subplot(224)\n",
      "controlData.ix[:,'medicationCount'].hist(bins=20, range=[0,20],figsize=(12,8))\n",
      "cleaned.ix[:,'medicationCount'].hist(bins=20, range=[0,20])\n",
      "ax4.title.set_text('Medication Count')\n",
      "ax4.set_yscale(\"log\", nonposy='clip')"
     ],
     "language": "python",
     "metadata": {},
     "outputs": [
      {
       "metadata": {},
       "output_type": "display_data",
       "png": "[encoded data removed]",
       "text": [
        "<matplotlib.figure.Figure at 0x7f1b2e6ace80>"
       ]
      }
     ],
     "prompt_number": 704
    },
    {
     "cell_type": "code",
     "collapsed": false,
     "input": [
      "#start trining\n",
      "from sklearn.cross_validation import train_test_split\n",
      "from sklearn.naive_bayes import MultinomialNB\n",
      "from sklearn.linear_model import LogisticRegression,LinearRegression, SGDClassifier\n",
      "from sklearn.neighbors import KNeighborsClassifier\n",
      "from sklearn.tree import DecisionTreeClassifier\n",
      "from sklearn.ensemble import RandomForestClassifier,ExtraTreesClassifier\n",
      "from pandas.tools.plotting import andrews_curves\n",
      "from sklearn import preprocessing\n",
      "from sklearn import metrics\n",
      "\n",
      "minMaxScaler = preprocessing.MinMaxScaler()\n",
      "robustScaler = preprocessing.RobustScaler()\n",
      "X = minMaxScaler.fit_transform(X)\n",
      "#X = robustScaler.fit_transform(X)\n",
      "#X['age'] = X['age'].reshape(-1,1)\n",
      "\n",
      "#print(X)\n",
      "#clf1 = LogisticRegression()\n",
      "#clf1 = KNeighborsClassifier()\n",
      "#clf = RandomForestClassifier()\n",
      "clf1 = DecisionTreeClassifier()\n",
      "#clf1 = ExtraTreesClassifier()\n",
      "#clf = SGDClassifier()\n",
      "import numpy as np\n",
      "\n",
      "#split data\n",
      "state = np.random.randint(0,10)\n",
      "X_train, X_test, y1_train, y1_test = train_test_split(X,y1, random_state=state, test_size=0.2)\n",
      "print(len(X),state)\n",
      "#train data\n",
      "clf1.fit(X_train,y1_train)\n",
      "y_pred = clf1.predict(X_test)\n",
      "\n",
      "#call accuracy score\n",
      "#print(y_pred)\n",
      "print(\"Random:{}\".format(sum(y2==True)/float(len(y2))))\n",
      "print(\"Prediction Score:{}\".format(metrics.accuracy_score(y1_test,y_pred)))\n",
      "print(\"Training score:{}\".format(metrics.accuracy_score(y1_train,clf1.predict(X_train))))"
     ],
     "language": "python",
     "metadata": {},
     "outputs": [
      {
       "output_type": "stream",
       "stream": "stdout",
       "text": [
        "7128 7\n",
        "Random:0.5716216216216217\n",
        "Prediction Score:0.9081346423562412\n",
        "Training score:0.9991231146965976\n"
       ]
      }
     ],
     "prompt_number": 735
    },
    {
     "cell_type": "code",
     "collapsed": false,
     "input": [],
     "language": "python",
     "metadata": {},
     "outputs": [],
     "prompt_number": 443
    },
    {
     "cell_type": "code",
     "collapsed": false,
     "input": [
      "y_pred"
     ],
     "language": "python",
     "metadata": {},
     "outputs": [
      {
       "metadata": {},
       "output_type": "pyout",
       "prompt_number": 443,
       "text": [
        "array([1, 1, 0, 1, 0, 1, 1, 1, 1, 0, 1, 0, 0, 1, 0, 1, 1, 1, 0, 0, 1, 1, 1,\n",
        "       1, 1, 0, 1, 1, 0, 1, 1, 0, 1, 0, 1, 1, 1, 1, 0, 0, 1, 0, 1, 0, 0, 0,\n",
        "       0, 1, 0, 1, 1, 0, 0, 1, 1, 1, 0, 1, 0, 1, 1, 1, 0, 1, 1, 0, 1, 0, 1,\n",
        "       1, 0, 1, 0, 1, 0, 1, 0, 0, 0, 1, 1, 1, 1, 0, 1, 0, 1, 1, 0, 1, 1, 1,\n",
        "       1, 1, 1, 0, 0, 1, 0, 1, 1, 1, 0, 0, 1, 0, 1, 0, 0, 0, 0, 1, 1, 1, 0,\n",
        "       1, 1, 0, 0, 0, 1, 0, 1, 0, 1, 1, 0, 1, 0, 0, 0, 0, 0, 0, 1, 1, 1, 0,\n",
        "       1, 1, 1, 1, 1, 0, 1, 0, 1, 0])"
       ]
      }
     ],
     "prompt_number": 443
    },
    {
     "cell_type": "code",
     "collapsed": false,
     "input": [],
     "language": "python",
     "metadata": {},
     "outputs": []
    }
   ],
   "metadata": {}
  }
 ]
}